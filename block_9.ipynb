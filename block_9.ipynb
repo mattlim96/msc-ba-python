{
 "cells": [
  {
   "cell_type": "markdown",
   "metadata": {
    "toc": true
   },
   "source": [
    "<h1>Table of Contents<span class=\"tocSkip\"></span></h1>\n",
    "<div class=\"toc\"><ul class=\"toc-item\"><li><span><a href=\"#Setup\" data-toc-modified-id=\"Setup-1\"><span class=\"toc-item-num\">1&nbsp;&nbsp;</span>Setup</a></span></li><li><span><a href=\"#Key-intuition-of-regression-analysis\" data-toc-modified-id=\"Key-intuition-of-regression-analysis-2\"><span class=\"toc-item-num\">2&nbsp;&nbsp;</span>Key intuition of regression analysis</a></span></li><li><span><a href=\"#Regression-Analysis-with-Statsmodels\" data-toc-modified-id=\"Regression-Analysis-with-Statsmodels-3\"><span class=\"toc-item-num\">3&nbsp;&nbsp;</span>Regression Analysis with Statsmodels</a></span><ul class=\"toc-item\"><li><span><a href=\"#Data-transformation/preparation\" data-toc-modified-id=\"Data-transformation/preparation-3.1\"><span class=\"toc-item-num\">3.1&nbsp;&nbsp;</span>Data transformation/preparation</a></span></li><li><span><a href=\"#OLS\" data-toc-modified-id=\"OLS-3.2\"><span class=\"toc-item-num\">3.2&nbsp;&nbsp;</span>OLS</a></span></li><li><span><a href=\"#Robust-regression\" data-toc-modified-id=\"Robust-regression-3.3\"><span class=\"toc-item-num\">3.3&nbsp;&nbsp;</span>Robust regression</a></span></li><li><span><a href=\"#Discrete-choice-models\" data-toc-modified-id=\"Discrete-choice-models-3.4\"><span class=\"toc-item-num\">3.4&nbsp;&nbsp;</span>Discrete choice models</a></span></li><li><span><a href=\"#Count-models\" data-toc-modified-id=\"Count-models-3.5\"><span class=\"toc-item-num\">3.5&nbsp;&nbsp;</span>Count models</a></span></li></ul></li></ul></div>"
   ]
  },
  {
   "cell_type": "markdown",
   "metadata": {},
   "source": [
    "# Setup"
   ]
  },
  {
   "cell_type": "code",
   "execution_count": 1,
   "metadata": {},
   "outputs": [],
   "source": [
    "from IPython.display import Image\n",
    "from IPython.core.display import HTML"
   ]
  },
  {
   "cell_type": "code",
   "execution_count": 2,
   "metadata": {},
   "outputs": [],
   "source": [
    "import pandas as pd\n",
    "import numpy as np"
   ]
  },
  {
   "cell_type": "markdown",
   "metadata": {},
   "source": [
    "# Key intuition of regression analysis"
   ]
  },
  {
   "cell_type": "code",
   "execution_count": 3,
   "metadata": {},
   "outputs": [
    {
     "data": {
      "text/html": [
       "<img src=\"http://www.mostlyharmlesseconometrics.com/wordpress/wp-content/uploads/2009/05/k8769-193x300.gif\"/>"
      ],
      "text/plain": [
       "<IPython.core.display.Image object>"
      ]
     },
     "execution_count": 3,
     "metadata": {},
     "output_type": "execute_result"
    }
   ],
   "source": [
    "Image(url=\"http://www.mostlyharmlesseconometrics.com/wordpress/wp-content/uploads/2009/05/k8769-193x300.gif\")"
   ]
  },
  {
   "cell_type": "markdown",
   "metadata": {},
   "source": [
    "<div class=\"girk\">\n",
    "Angrist and Pischke's book is definitely the place to start to familiarize with the conceptual and statistical aspects of regression analysis</div><i class=\"fa fa-lightbulb-o \"></i>\n",
    "\n",
    "Ultimately, when we estimate a regression model we want to infer the parameters linking a series of independent variables $X$ to a dependent variable $y$:\n",
    "\n",
    "$y = \\alpha + \\beta_{1} * x_{1} + \\beta_{2} * x_{2} ... + \\beta_{k} * x_{k} + u $"
   ]
  },
  {
   "cell_type": "markdown",
   "metadata": {},
   "source": [
    "# Regression Analysis with Statsmodels"
   ]
  },
  {
   "cell_type": "code",
   "execution_count": 4,
   "metadata": {},
   "outputs": [],
   "source": [
    "import statsmodels.api as sm\n",
    "import statsmodels.formula.api as smf"
   ]
  },
  {
   "cell_type": "markdown",
   "metadata": {},
   "source": [
    "## Data transformation/preparation"
   ]
  },
  {
   "cell_type": "code",
   "execution_count": 5,
   "metadata": {},
   "outputs": [],
   "source": [
    "DF = pd.read_csv(\"block_9_data.csv\")"
   ]
  },
  {
   "cell_type": "code",
   "execution_count": 6,
   "metadata": {},
   "outputs": [
    {
     "name": "stdout",
     "output_type": "stream",
     "text": [
      "<class 'pandas.core.frame.DataFrame'>\n",
      "RangeIndex: 151254 entries, 0 to 151253\n",
      "Data columns (total 13 columns):\n",
      "timestamp         151254 non-null object\n",
      "asin              151254 non-null object\n",
      "helpful           151254 non-null object\n",
      "overall           151254 non-null float64\n",
      "reviewText        151232 non-null object\n",
      "reviewTime        151254 non-null object\n",
      "reviewerID        151254 non-null object\n",
      "reviewerName      149761 non-null object\n",
      "summary           151254 non-null object\n",
      "unixReviewTime    151254 non-null int64\n",
      "review_year       151254 non-null int64\n",
      "review_month      151254 non-null int64\n",
      "review_day        151254 non-null int64\n",
      "dtypes: float64(1), int64(4), object(8)\n",
      "memory usage: 15.0+ MB\n"
     ]
    }
   ],
   "source": [
    "DF.info()"
   ]
  },
  {
   "cell_type": "markdown",
   "metadata": {},
   "source": [
    "$ rating = \\alpha + \\beta_{1} * reviews + \\beta_{2} * average + u $ "
   ]
  },
  {
   "cell_type": "code",
   "execution_count": 7,
   "metadata": {},
   "outputs": [],
   "source": [
    "# weight\n",
    "DF.loc[:, \"weight\"] = 1"
   ]
  },
  {
   "cell_type": "code",
   "execution_count": 8,
   "metadata": {},
   "outputs": [],
   "source": [
    "# set index\n",
    "DF.set_index(\n",
    "    [\"asin\", \"review_year\", \"review_month\", \"review_day\"], inplace=True)"
   ]
  },
  {
   "cell_type": "code",
   "execution_count": 10,
   "metadata": {},
   "outputs": [],
   "source": [
    "# reviews\n",
    "DF.loc[:, \"reviews\"] = DF.groupby(level=[\"asin\"])[\"weight\"].transform(\n",
    "    np.cumsum)"
   ]
  },
  {
   "cell_type": "code",
   "execution_count": 12,
   "metadata": {},
   "outputs": [],
   "source": [
    "# average\n",
    "DF.loc[:, \"average\"] = DF.groupby(level=[\"asin\"])[\"overall\"].transform(\n",
    "    np.cumsum)\n",
    "DF.loc[:, \"average\"] = DF[\"average\"] / DF[\"reviews\"]"
   ]
  },
  {
   "cell_type": "code",
   "execution_count": 13,
   "metadata": {},
   "outputs": [
    {
     "data": {
      "text/html": [
       "<div>\n",
       "<style scoped>\n",
       "    .dataframe tbody tr th:only-of-type {\n",
       "        vertical-align: middle;\n",
       "    }\n",
       "\n",
       "    .dataframe tbody tr th {\n",
       "        vertical-align: top;\n",
       "    }\n",
       "\n",
       "    .dataframe thead tr th {\n",
       "        text-align: left;\n",
       "    }\n",
       "</style>\n",
       "<table border=\"1\" class=\"dataframe\">\n",
       "  <thead>\n",
       "    <tr>\n",
       "      <th>asin</th>\n",
       "      <th colspan=\"5\" halign=\"left\">616719923X</th>\n",
       "    </tr>\n",
       "    <tr>\n",
       "      <th>review_year</th>\n",
       "      <th>2013</th>\n",
       "      <th>2014</th>\n",
       "      <th colspan=\"3\" halign=\"left\">2013</th>\n",
       "    </tr>\n",
       "    <tr>\n",
       "      <th>review_month</th>\n",
       "      <th>6</th>\n",
       "      <th>5</th>\n",
       "      <th>10</th>\n",
       "      <th colspan=\"2\" halign=\"left\">5</th>\n",
       "    </tr>\n",
       "    <tr>\n",
       "      <th>review_day</th>\n",
       "      <th>1</th>\n",
       "      <th>19</th>\n",
       "      <th>8</th>\n",
       "      <th>20</th>\n",
       "      <th>26</th>\n",
       "    </tr>\n",
       "  </thead>\n",
       "  <tbody>\n",
       "    <tr>\n",
       "      <th>timestamp</th>\n",
       "      <td>2013-06-01</td>\n",
       "      <td>2014-05-19</td>\n",
       "      <td>2013-10-08</td>\n",
       "      <td>2013-05-20</td>\n",
       "      <td>2013-05-26</td>\n",
       "    </tr>\n",
       "    <tr>\n",
       "      <th>helpful</th>\n",
       "      <td>[0, 0]</td>\n",
       "      <td>[0, 1]</td>\n",
       "      <td>[3, 4]</td>\n",
       "      <td>[0, 0]</td>\n",
       "      <td>[1, 2]</td>\n",
       "    </tr>\n",
       "    <tr>\n",
       "      <th>overall</th>\n",
       "      <td>4</td>\n",
       "      <td>3</td>\n",
       "      <td>4</td>\n",
       "      <td>5</td>\n",
       "      <td>4</td>\n",
       "    </tr>\n",
       "    <tr>\n",
       "      <th>reviewText</th>\n",
       "      <td>Just another flavor of Kit Kat but the taste i...</td>\n",
       "      <td>I bought this on impulse and it comes from Jap...</td>\n",
       "      <td>Really good. Great gift for any fan of green t...</td>\n",
       "      <td>I had never had it before, was curious to see ...</td>\n",
       "      <td>I've been looking forward to trying these afte...</td>\n",
       "    </tr>\n",
       "    <tr>\n",
       "      <th>reviewTime</th>\n",
       "      <td>06 1, 2013</td>\n",
       "      <td>05 19, 2014</td>\n",
       "      <td>10 8, 2013</td>\n",
       "      <td>05 20, 2013</td>\n",
       "      <td>05 26, 2013</td>\n",
       "    </tr>\n",
       "    <tr>\n",
       "      <th>reviewerID</th>\n",
       "      <td>A1VEELTKS8NLZB</td>\n",
       "      <td>A14R9XMZVJ6INB</td>\n",
       "      <td>A27IQHDZFQFNGG</td>\n",
       "      <td>A31QY5TASILE89</td>\n",
       "      <td>A2LWK003FFMCI5</td>\n",
       "    </tr>\n",
       "    <tr>\n",
       "      <th>reviewerName</th>\n",
       "      <td>Amazon Customer</td>\n",
       "      <td>amf0001</td>\n",
       "      <td>Caitlin</td>\n",
       "      <td>DebraDownSth</td>\n",
       "      <td>Diana X.</td>\n",
       "    </tr>\n",
       "    <tr>\n",
       "      <th>summary</th>\n",
       "      <td>Good Taste</td>\n",
       "      <td>3.5 stars,  sadly not as wonderful as I had hoped</td>\n",
       "      <td>Yum!</td>\n",
       "      <td>Unexpected flavor meld</td>\n",
       "      <td>Not a very strong tea flavor, but still yummy ...</td>\n",
       "    </tr>\n",
       "    <tr>\n",
       "      <th>unixReviewTime</th>\n",
       "      <td>1370044800</td>\n",
       "      <td>1400457600</td>\n",
       "      <td>1381190400</td>\n",
       "      <td>1369008000</td>\n",
       "      <td>1369526400</td>\n",
       "    </tr>\n",
       "    <tr>\n",
       "      <th>weight</th>\n",
       "      <td>1</td>\n",
       "      <td>1</td>\n",
       "      <td>1</td>\n",
       "      <td>1</td>\n",
       "      <td>1</td>\n",
       "    </tr>\n",
       "    <tr>\n",
       "      <th>reviews</th>\n",
       "      <td>1</td>\n",
       "      <td>2</td>\n",
       "      <td>3</td>\n",
       "      <td>4</td>\n",
       "      <td>5</td>\n",
       "    </tr>\n",
       "    <tr>\n",
       "      <th>average</th>\n",
       "      <td>4</td>\n",
       "      <td>3.5</td>\n",
       "      <td>3.66667</td>\n",
       "      <td>4</td>\n",
       "      <td>4</td>\n",
       "    </tr>\n",
       "  </tbody>\n",
       "</table>\n",
       "</div>"
      ],
      "text/plain": [
       "asin                                                   616719923X  \\\n",
       "review_year                                                  2013   \n",
       "review_month                                                   6    \n",
       "review_day                                                     1    \n",
       "timestamp                                              2013-06-01   \n",
       "helpful                                                    [0, 0]   \n",
       "overall                                                         4   \n",
       "reviewText      Just another flavor of Kit Kat but the taste i...   \n",
       "reviewTime                                             06 1, 2013   \n",
       "reviewerID                                         A1VEELTKS8NLZB   \n",
       "reviewerName                                      Amazon Customer   \n",
       "summary                                                Good Taste   \n",
       "unixReviewTime                                         1370044800   \n",
       "weight                                                          1   \n",
       "reviews                                                         1   \n",
       "average                                                         4   \n",
       "\n",
       "asin                                                               \\\n",
       "review_year                                                  2014   \n",
       "review_month                                                   5    \n",
       "review_day                                                     19   \n",
       "timestamp                                              2014-05-19   \n",
       "helpful                                                    [0, 1]   \n",
       "overall                                                         3   \n",
       "reviewText      I bought this on impulse and it comes from Jap...   \n",
       "reviewTime                                            05 19, 2014   \n",
       "reviewerID                                         A14R9XMZVJ6INB   \n",
       "reviewerName                                              amf0001   \n",
       "summary         3.5 stars,  sadly not as wonderful as I had hoped   \n",
       "unixReviewTime                                         1400457600   \n",
       "weight                                                          1   \n",
       "reviews                                                         2   \n",
       "average                                                       3.5   \n",
       "\n",
       "asin                                                               \\\n",
       "review_year                                                  2013   \n",
       "review_month                                                   10   \n",
       "review_day                                                     8    \n",
       "timestamp                                              2013-10-08   \n",
       "helpful                                                    [3, 4]   \n",
       "overall                                                         4   \n",
       "reviewText      Really good. Great gift for any fan of green t...   \n",
       "reviewTime                                             10 8, 2013   \n",
       "reviewerID                                         A27IQHDZFQFNGG   \n",
       "reviewerName                                              Caitlin   \n",
       "summary                                                      Yum!   \n",
       "unixReviewTime                                         1381190400   \n",
       "weight                                                          1   \n",
       "reviews                                                         3   \n",
       "average                                                   3.66667   \n",
       "\n",
       "asin                                                               \\\n",
       "review_year                                                         \n",
       "review_month                                                   5    \n",
       "review_day                                                     20   \n",
       "timestamp                                              2013-05-20   \n",
       "helpful                                                    [0, 0]   \n",
       "overall                                                         5   \n",
       "reviewText      I had never had it before, was curious to see ...   \n",
       "reviewTime                                            05 20, 2013   \n",
       "reviewerID                                         A31QY5TASILE89   \n",
       "reviewerName                                         DebraDownSth   \n",
       "summary                                    Unexpected flavor meld   \n",
       "unixReviewTime                                         1369008000   \n",
       "weight                                                          1   \n",
       "reviews                                                         4   \n",
       "average                                                         4   \n",
       "\n",
       "asin                                                               \n",
       "review_year                                                        \n",
       "review_month                                                       \n",
       "review_day                                                     26  \n",
       "timestamp                                              2013-05-26  \n",
       "helpful                                                    [1, 2]  \n",
       "overall                                                         4  \n",
       "reviewText      I've been looking forward to trying these afte...  \n",
       "reviewTime                                            05 26, 2013  \n",
       "reviewerID                                         A2LWK003FFMCI5  \n",
       "reviewerName                                             Diana X.  \n",
       "summary         Not a very strong tea flavor, but still yummy ...  \n",
       "unixReviewTime                                         1369526400  \n",
       "weight                                                          1  \n",
       "reviews                                                         5  \n",
       "average                                                         4  "
      ]
     },
     "execution_count": 13,
     "metadata": {},
     "output_type": "execute_result"
    }
   ],
   "source": [
    "DF.head().T"
   ]
  },
  {
   "cell_type": "markdown",
   "metadata": {},
   "source": [
    "## OLS"
   ]
  },
  {
   "cell_type": "code",
   "execution_count": 14,
   "metadata": {},
   "outputs": [],
   "source": [
    "FML = \"overall ~ reviews + average\"\n",
    "OLS = smf.ols(FML, data = DF).fit()"
   ]
  },
  {
   "cell_type": "code",
   "execution_count": 15,
   "metadata": {},
   "outputs": [
    {
     "name": "stdout",
     "output_type": "stream",
     "text": [
      "                            OLS Regression Results                            \n",
      "==============================================================================\n",
      "Dep. Variable:                overall   R-squared:                       0.287\n",
      "Model:                            OLS   Adj. R-squared:                  0.287\n",
      "Method:                 Least Squares   F-statistic:                 3.040e+04\n",
      "Date:                Fri, 27 Jul 2018   Prob (F-statistic):               0.00\n",
      "Time:                        00:00:11   Log-Likelihood:            -2.0210e+05\n",
      "No. Observations:              151254   AIC:                         4.042e+05\n",
      "Df Residuals:                  151251   BIC:                         4.042e+05\n",
      "Df Model:                           2                                         \n",
      "Covariance Type:            nonrobust                                         \n",
      "==============================================================================\n",
      "                 coef    std err          t      P>|t|      [0.025      0.975]\n",
      "------------------------------------------------------------------------------\n",
      "Intercept     -0.0141      0.018     -0.773      0.440      -0.050       0.022\n",
      "reviews    -7.404e-05   3.29e-05     -2.250      0.024      -0.000   -9.55e-06\n",
      "average        1.0032      0.004    240.564      0.000       0.995       1.011\n",
      "==============================================================================\n",
      "Omnibus:                    28401.591   Durbin-Watson:                   1.988\n",
      "Prob(Omnibus):                  0.000   Jarque-Bera (JB):            54895.281\n",
      "Skew:                          -1.153   Prob(JB):                         0.00\n",
      "Kurtosis:                       4.842   Cond. No.                         670.\n",
      "==============================================================================\n",
      "\n",
      "Warnings:\n",
      "[1] Standard Errors assume that the covariance matrix of the errors is correctly specified.\n"
     ]
    }
   ],
   "source": [
    "print(OLS.summary())"
   ]
  },
  {
   "cell_type": "markdown",
   "metadata": {},
   "source": [
    "## Robust regression"
   ]
  },
  {
   "cell_type": "code",
   "execution_count": 19,
   "metadata": {},
   "outputs": [],
   "source": [
    "DF.reset_index(inplace=True)"
   ]
  },
  {
   "cell_type": "code",
   "execution_count": 20,
   "metadata": {},
   "outputs": [],
   "source": [
    "FML = \"overall ~ reviews + average\"\n",
    "ROBUST = smf.ols(\n",
    "    FML, data=DF).fit(\n",
    "        cov_type=\"cluster\", cov_kwds={\"groups\": np.array(DF[\"asin\"])})"
   ]
  },
  {
   "cell_type": "code",
   "execution_count": 21,
   "metadata": {},
   "outputs": [
    {
     "name": "stdout",
     "output_type": "stream",
     "text": [
      "                            OLS Regression Results                            \n",
      "==============================================================================\n",
      "Dep. Variable:                overall   R-squared:                       0.287\n",
      "Model:                            OLS   Adj. R-squared:                  0.287\n",
      "Method:                 Least Squares   F-statistic:                 3.159e+04\n",
      "Date:                Fri, 27 Jul 2018   Prob (F-statistic):               0.00\n",
      "Time:                        00:12:05   Log-Likelihood:            -2.0210e+05\n",
      "No. Observations:              151254   AIC:                         4.042e+05\n",
      "Df Residuals:                  151251   BIC:                         4.042e+05\n",
      "Df Model:                           2                                         \n",
      "Covariance Type:              cluster                                         \n",
      "==============================================================================\n",
      "                 coef    std err          z      P>|z|      [0.025      0.975]\n",
      "------------------------------------------------------------------------------\n",
      "Intercept     -0.0141      0.019     -0.731      0.464      -0.052       0.024\n",
      "reviews    -7.404e-05   4.52e-05     -1.637      0.102      -0.000    1.46e-05\n",
      "average        1.0032      0.004    243.524      0.000       0.995       1.011\n",
      "==============================================================================\n",
      "Omnibus:                    28401.591   Durbin-Watson:                   1.988\n",
      "Prob(Omnibus):                  0.000   Jarque-Bera (JB):            54895.281\n",
      "Skew:                          -1.153   Prob(JB):                         0.00\n",
      "Kurtosis:                       4.842   Cond. No.                         670.\n",
      "==============================================================================\n",
      "\n",
      "Warnings:\n",
      "[1] Standard Errors are robust tocluster correlation (cluster)\n"
     ]
    }
   ],
   "source": [
    "print(ROBUST.summary())"
   ]
  },
  {
   "cell_type": "markdown",
   "metadata": {},
   "source": [
    "## Discrete choice models"
   ]
  },
  {
   "cell_type": "code",
   "execution_count": 22,
   "metadata": {},
   "outputs": [],
   "source": [
    "# low rating\n",
    "DF.loc[:, \"very_low\"] = 0\n",
    "DF.loc[DF[\"overall\"] == 1, \"very_low\"] = 1"
   ]
  },
  {
   "cell_type": "code",
   "execution_count": 26,
   "metadata": {},
   "outputs": [
    {
     "name": "stdout",
     "output_type": "stream",
     "text": [
      "Optimization terminated successfully.\n",
      "         Current function value: 0.134610\n",
      "         Iterations 8\n"
     ]
    }
   ],
   "source": [
    "# formula\n",
    "FML = \"very_low ~ reviews + average\"\n",
    "from statsmodels.formula.api import logit\n",
    "ROBUST = logit(FML, data = DF).fit()"
   ]
  },
  {
   "cell_type": "code",
   "execution_count": 27,
   "metadata": {},
   "outputs": [
    {
     "name": "stdout",
     "output_type": "stream",
     "text": [
      "                           Logit Regression Results                           \n",
      "==============================================================================\n",
      "Dep. Variable:               very_low   No. Observations:               151254\n",
      "Model:                          Logit   Df Residuals:                   151251\n",
      "Method:                           MLE   Df Model:                            2\n",
      "Date:                Fri, 27 Jul 2018   Pseudo R-squ.:                  0.1701\n",
      "Time:                        00:21:54   Log-Likelihood:                -20360.\n",
      "converged:                       True   LL-Null:                       -24534.\n",
      "                                        LLR p-value:                     0.000\n",
      "==============================================================================\n",
      "                 coef    std err          z      P>|z|      [0.025      0.975]\n",
      "------------------------------------------------------------------------------\n",
      "Intercept      3.3637      0.072     46.619      0.000       3.222       3.505\n",
      "reviews       -0.0011      0.000     -5.586      0.000      -0.001      -0.001\n",
      "average       -1.6581      0.019    -86.329      0.000      -1.696      -1.620\n",
      "==============================================================================\n"
     ]
    }
   ],
   "source": [
    "print(ROBUST.summary())"
   ]
  },
  {
   "cell_type": "markdown",
   "metadata": {},
   "source": [
    "## Count models"
   ]
  },
  {
   "cell_type": "markdown",
   "metadata": {},
   "source": [
    "$ reviews = \\alpha + \\beta_{1} * average + u $"
   ]
  },
  {
   "cell_type": "code",
   "execution_count": 28,
   "metadata": {},
   "outputs": [
    {
     "name": "stdout",
     "output_type": "stream",
     "text": [
      "Optimization terminated successfully.\n",
      "         Current function value: 37.681120\n",
      "         Iterations 6\n",
      "                          Poisson Regression Results                          \n",
      "==============================================================================\n",
      "Dep. Variable:                reviews   No. Observations:               151254\n",
      "Model:                        Poisson   Df Residuals:                   151252\n",
      "Method:                           MLE   Df Model:                            1\n",
      "Date:                Fri, 27 Jul 2018   Pseudo R-squ.:                 0.06150\n",
      "Time:                        00:29:29   Log-Likelihood:            -5.6994e+06\n",
      "converged:                       True   LL-Null:                   -6.0729e+06\n",
      "                                        LLR p-value:                     0.000\n",
      "==============================================================================\n",
      "                 coef    std err          z      P>|z|      [0.025      0.975]\n",
      "------------------------------------------------------------------------------\n",
      "Intercept      5.8619      0.002   2620.159      0.000       5.858       5.866\n",
      "average       -0.5104      0.001   -934.859      0.000      -0.511      -0.509\n",
      "==============================================================================\n"
     ]
    }
   ],
   "source": [
    "# formula\n",
    "FML = \"reviews ~ average\"\n",
    "from statsmodels.formula.api import poisson\n",
    "POISSON = smf.poisson(FML, data = DF).fit()\n",
    "print(POISSON.summary())"
   ]
  },
  {
   "cell_type": "code",
   "execution_count": null,
   "metadata": {},
   "outputs": [],
   "source": []
  }
 ],
 "metadata": {
  "kernelspec": {
   "display_name": "Python 3",
   "language": "python",
   "name": "python3"
  },
  "language_info": {
   "codemirror_mode": {
    "name": "ipython",
    "version": 3
   },
   "file_extension": ".py",
   "mimetype": "text/x-python",
   "name": "python",
   "nbconvert_exporter": "python",
   "pygments_lexer": "ipython3",
   "version": "3.6.5"
  },
  "toc": {
   "base_numbering": 1,
   "nav_menu": {},
   "number_sections": true,
   "sideBar": true,
   "skip_h1_title": false,
   "title_cell": "Table of Contents",
   "title_sidebar": "Contents",
   "toc_cell": true,
   "toc_position": {},
   "toc_section_display": true,
   "toc_window_display": true
  },
  "varInspector": {
   "cols": {
    "lenName": 16,
    "lenType": 16,
    "lenVar": 40
   },
   "kernels_config": {
    "python": {
     "delete_cmd_postfix": "",
     "delete_cmd_prefix": "del ",
     "library": "var_list.py",
     "varRefreshCmd": "print(var_dic_list())"
    },
    "r": {
     "delete_cmd_postfix": ") ",
     "delete_cmd_prefix": "rm(",
     "library": "var_list.r",
     "varRefreshCmd": "cat(var_dic_list()) "
    }
   },
   "types_to_exclude": [
    "module",
    "function",
    "builtin_function_or_method",
    "instance",
    "_Feature"
   ],
   "window_display": false
  }
 },
 "nbformat": 4,
 "nbformat_minor": 2
}
