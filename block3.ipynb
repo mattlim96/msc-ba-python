{
 "cells": [
  {
   "cell_type": "markdown",
   "metadata": {
    "toc": true
   },
   "source": [
    "<h1>Table of Contents<span class=\"tocSkip\"></span></h1>\n",
    "<div class=\"toc\"><ul class=\"toc-item\"><li><span><a href=\"#README\" data-toc-modified-id=\"README-1\"><span class=\"toc-item-num\">1&nbsp;&nbsp;</span>README</a></span></li><li><span><a href=\"#Comparisons-and-Logic\" data-toc-modified-id=\"Comparisons-and-Logic-2\"><span class=\"toc-item-num\">2&nbsp;&nbsp;</span>Comparisons and Logic</a></span><ul class=\"toc-item\"><li><span><a href=\"#Operators\" data-toc-modified-id=\"Operators-2.1\"><span class=\"toc-item-num\">2.1&nbsp;&nbsp;</span>Operators</a></span></li><li><span><a href=\"#Logic-operators\" data-toc-modified-id=\"Logic-operators-2.2\"><span class=\"toc-item-num\">2.2&nbsp;&nbsp;</span>Logic operators</a></span></li></ul></li><li><span><a href=\"#'If'-test-and-syntax-rules\" data-toc-modified-id=\"'If'-test-and-syntax-rules-3\"><span class=\"toc-item-num\">3&nbsp;&nbsp;</span>'If' test and syntax rules</a></span></li><li><span><a href=\"#'While'-and-'for'-loops\" data-toc-modified-id=\"'While'-and-'for'-loops-4\"><span class=\"toc-item-num\">4&nbsp;&nbsp;</span>'While' and 'for' loops</a></span></li><li><span><a href=\"#Iterations-and-comprehensions\" data-toc-modified-id=\"Iterations-and-comprehensions-5\"><span class=\"toc-item-num\">5&nbsp;&nbsp;</span>Iterations and comprehensions</a></span><ul class=\"toc-item\"><li><span><a href=\"#List-comprehensions\" data-toc-modified-id=\"List-comprehensions-5.1\"><span class=\"toc-item-num\">5.1&nbsp;&nbsp;</span>List comprehensions</a></span></li><li><span><a href=\"#Creating-and-embedding-new-functions\" data-toc-modified-id=\"Creating-and-embedding-new-functions-5.2\"><span class=\"toc-item-num\">5.2&nbsp;&nbsp;</span>Creating and embedding new functions</a></span></li><li><span><a href=\"#$\\lambda$-function\" data-toc-modified-id=\"$\\lambda$-function-5.3\"><span class=\"toc-item-num\">5.3&nbsp;&nbsp;</span>$\\lambda$ function</a></span></li></ul></li></ul></div>"
   ]
  },
  {
   "cell_type": "markdown",
   "metadata": {},
   "source": [
    "# README"
   ]
  },
  {
   "cell_type": "markdown",
   "metadata": {},
   "source": [
    "This block # 3 deals with Python statements ― complex expressions relating variables by means of logical operators, Python keywords, and Python objects."
   ]
  },
  {
   "cell_type": "markdown",
   "metadata": {},
   "source": [
    "# Comparisons and Logic"
   ]
  },
  {
   "cell_type": "markdown",
   "metadata": {},
   "source": [
    "## Operators"
   ]
  },
  {
   "cell_type": "markdown",
   "metadata": {},
   "source": [
    "Python comparison operators.\n",
    "\n",
    "Python Operator | Description\n",
    "------------------------|-----\n",
    "== |equal to \n",
    "!= |not equal to \n",
    "> | greater than \n",
    "< | less than \n",
    ">= | greater than or equal to \n",
    "<= | less than or equal "
   ]
  },
  {
   "cell_type": "code",
   "execution_count": 1,
   "metadata": {},
   "outputs": [
    {
     "data": {
      "text/plain": [
       "False"
      ]
     },
     "execution_count": 1,
     "metadata": {},
     "output_type": "execute_result"
    }
   ],
   "source": [
    "7 == 8"
   ]
  },
  {
   "cell_type": "code",
   "execution_count": 2,
   "metadata": {},
   "outputs": [
    {
     "data": {
      "text/plain": [
       "True"
      ]
     },
     "execution_count": 2,
     "metadata": {},
     "output_type": "execute_result"
    }
   ],
   "source": [
    "4 > 2.56"
   ]
  },
  {
   "cell_type": "code",
   "execution_count": 3,
   "metadata": {},
   "outputs": [
    {
     "data": {
      "text/plain": [
       "False"
      ]
     },
     "execution_count": 3,
     "metadata": {},
     "output_type": "execute_result"
    }
   ],
   "source": [
    "6 != 6"
   ]
  },
  {
   "cell_type": "code",
   "execution_count": 4,
   "metadata": {},
   "outputs": [],
   "source": [
    "A = 2"
   ]
  },
  {
   "cell_type": "code",
   "execution_count": 5,
   "metadata": {},
   "outputs": [
    {
     "data": {
      "text/plain": [
       "True"
      ]
     },
     "execution_count": 5,
     "metadata": {},
     "output_type": "execute_result"
    }
   ],
   "source": [
    "A == 2"
   ]
  },
  {
   "cell_type": "markdown",
   "metadata": {},
   "source": [
    "## Logic operators"
   ]
  },
  {
   "cell_type": "code",
   "execution_count": 6,
   "metadata": {},
   "outputs": [
    {
     "data": {
      "text/plain": [
       "True"
      ]
     },
     "execution_count": 6,
     "metadata": {},
     "output_type": "execute_result"
    }
   ],
   "source": [
    "6 > 4 and -2 > -3"
   ]
  },
  {
   "cell_type": "code",
   "execution_count": 7,
   "metadata": {},
   "outputs": [
    {
     "data": {
      "text/plain": [
       "True"
      ]
     },
     "execution_count": 7,
     "metadata": {},
     "output_type": "execute_result"
    }
   ],
   "source": [
    "4 < 2 or 1 != 3"
   ]
  },
  {
   "cell_type": "code",
   "execution_count": 8,
   "metadata": {},
   "outputs": [
    {
     "data": {
      "text/plain": [
       "False"
      ]
     },
     "execution_count": 8,
     "metadata": {},
     "output_type": "execute_result"
    }
   ],
   "source": [
    "not 6.2 > 3 or 4 == 1"
   ]
  },
  {
   "cell_type": "markdown",
   "metadata": {},
   "source": [
    "Truth table for the <span class=\"mark\">not</span> operator.\n",
    "\n",
    "P | not P\n",
    "---|---\n",
    "True | False\n",
    "False | True"
   ]
  },
  {
   "cell_type": "markdown",
   "metadata": {},
   "source": [
    "Truth table for the <span class=\"girk\">and</span> operator.\n",
    "\n",
    "P | Q | P and Q \n",
    "---|---|----\n",
    "True | True|True\n",
    "False | True|False\n",
    "True |False|False\n",
    "False |False|False"
   ]
  },
  {
   "cell_type": "markdown",
   "metadata": {},
   "source": [
    "Truth table for the <span class=\"burk\">or</span> operator.\n",
    "\n",
    "P | Q | P or Q \n",
    "---|---|----\n",
    "True | True|True\n",
    "False | True|True\n",
    "True |False|True\n",
    "False |False|False"
   ]
  },
  {
   "cell_type": "markdown",
   "metadata": {},
   "source": [
    " # 'If' test and syntax rules"
   ]
  },
  {
   "cell_type": "code",
   "execution_count": 9,
   "metadata": {},
   "outputs": [
    {
     "name": "stdout",
     "output_type": "stream",
     "text": [
      "0 is less than or equal to two\n",
      "1 is less than or equal to two\n",
      "2 is less than or equal to two\n",
      "3 must be three, four, five, or six, then\n",
      "4 must be three, four, five, or six, then\n",
      "5 must be three, four, five, or six, then\n",
      "6 must be three, four, five, or six, then\n",
      "7 is greater than six\n"
     ]
    }
   ],
   "source": [
    "for x in range(8):\n",
    "    if x <= 2:\n",
    "        print(x, \"is less than or equal to two\")\n",
    "    elif x > 6:\n",
    "        print(x, \"is greater than six\")\n",
    "    else:\n",
    "        print(x, \"must be three, four, five, or six, then\")"
   ]
  },
  {
   "cell_type": "markdown",
   "metadata": {},
   "source": [
    "# 'While' and 'for' loops"
   ]
  },
  {
   "cell_type": "code",
   "execution_count": 11,
   "metadata": {},
   "outputs": [
    {
     "name": "stdout",
     "output_type": "stream",
     "text": [
      "1\n",
      "1\n",
      "2\n",
      "3\n",
      "5\n",
      "8\n",
      "13\n"
     ]
    }
   ],
   "source": [
    "# Fibonacci Sequence:\n",
    "#    the sum of two elements defines the next\n",
    "# A = 0\n",
    "# B = 1\n",
    "\n",
    "A, B = 0, 1\n",
    "\n",
    "while B < 20:\n",
    "    print(B)\n",
    "    A, B = B, A + B"
   ]
  },
  {
   "cell_type": "code",
   "execution_count": 12,
   "metadata": {},
   "outputs": [
    {
     "name": "stdout",
     "output_type": "stream",
     "text": [
      "1;2;3;4;5;6;7;8;9;10;"
     ]
    }
   ],
   "source": [
    "X = 0\n",
    "\n",
    "while X < 10:\n",
    "    X += 1\n",
    "    print(X, end=\";\")"
   ]
  },
  {
   "cell_type": "code",
   "execution_count": 13,
   "metadata": {},
   "outputs": [
    {
     "name": "stdout",
     "output_type": "stream",
     "text": [
      "wine 4\n",
      "art 3\n",
      "Florence 8\n"
     ]
    }
   ],
   "source": [
    "TUSCANY = ['wine', 'art', 'Florence']\n",
    "\n",
    "for word in TUSCANY:\n",
    "    print(word, len(word))"
   ]
  },
  {
   "cell_type": "markdown",
   "metadata": {},
   "source": [
    "# Iterations and comprehensions"
   ]
  },
  {
   "cell_type": "markdown",
   "metadata": {},
   "source": [
    "## List comprehensions"
   ]
  },
  {
   "cell_type": "code",
   "execution_count": 14,
   "metadata": {},
   "outputs": [],
   "source": [
    "L = [1, 2, 3, 4, 5]"
   ]
  },
  {
   "cell_type": "code",
   "execution_count": 15,
   "metadata": {},
   "outputs": [],
   "source": [
    "L2 = [x ** 2 for x in L]"
   ]
  },
  {
   "cell_type": "code",
   "execution_count": 16,
   "metadata": {},
   "outputs": [
    {
     "data": {
      "text/plain": [
       "[1, 4, 9, 16, 25]"
      ]
     },
     "execution_count": 16,
     "metadata": {},
     "output_type": "execute_result"
    }
   ],
   "source": [
    "L2"
   ]
  },
  {
   "cell_type": "code",
   "execution_count": 17,
   "metadata": {},
   "outputs": [],
   "source": [
    "L2 = []\n",
    "\n",
    "for x in L:\n",
    "    L2.append(x ** 2)"
   ]
  },
  {
   "cell_type": "code",
   "execution_count": 18,
   "metadata": {},
   "outputs": [
    {
     "data": {
      "text/plain": [
       "[1, 4, 9, 16, 25]"
      ]
     },
     "execution_count": 18,
     "metadata": {},
     "output_type": "execute_result"
    }
   ],
   "source": [
    "L2"
   ]
  },
  {
   "cell_type": "code",
   "execution_count": 19,
   "metadata": {},
   "outputs": [],
   "source": [
    "L3 = [x ** 2 for x in L if x < 3]"
   ]
  },
  {
   "cell_type": "code",
   "execution_count": 20,
   "metadata": {},
   "outputs": [
    {
     "data": {
      "text/plain": [
       "[1, 4]"
      ]
     },
     "execution_count": 20,
     "metadata": {},
     "output_type": "execute_result"
    }
   ],
   "source": [
    "L3"
   ]
  },
  {
   "cell_type": "markdown",
   "metadata": {},
   "source": [
    "## Creating and embedding new functions"
   ]
  },
  {
   "cell_type": "code",
   "execution_count": 21,
   "metadata": {},
   "outputs": [],
   "source": [
    "def square(x):\n",
    "    x_squared = x ** 2\n",
    "    return x_squared"
   ]
  },
  {
   "cell_type": "code",
   "execution_count": 23,
   "metadata": {},
   "outputs": [
    {
     "data": {
      "text/plain": [
       "4"
      ]
     },
     "execution_count": 23,
     "metadata": {},
     "output_type": "execute_result"
    }
   ],
   "source": [
    "square(2)"
   ]
  },
  {
   "cell_type": "code",
   "execution_count": 26,
   "metadata": {},
   "outputs": [],
   "source": [
    "L4 = [square(x) for x in L if x < 3]"
   ]
  },
  {
   "cell_type": "code",
   "execution_count": 27,
   "metadata": {},
   "outputs": [
    {
     "data": {
      "text/plain": [
       "[1, 4]"
      ]
     },
     "execution_count": 27,
     "metadata": {},
     "output_type": "execute_result"
    }
   ],
   "source": [
    "L4"
   ]
  },
  {
   "cell_type": "markdown",
   "metadata": {},
   "source": [
    "## $\\lambda$ function"
   ]
  },
  {
   "cell_type": "code",
   "execution_count": 28,
   "metadata": {},
   "outputs": [],
   "source": [
    "POLY = lambda x, y: x * 2 + x ** 3 + x * y + y * 4 + y ** 2 * 1 "
   ]
  },
  {
   "cell_type": "code",
   "execution_count": 29,
   "metadata": {},
   "outputs": [
    {
     "data": {
      "text/plain": [
       "14.125"
      ]
     },
     "execution_count": 29,
     "metadata": {},
     "output_type": "execute_result"
    }
   ],
   "source": [
    "POLY(0.5, 2)"
   ]
  },
  {
   "cell_type": "code",
   "execution_count": null,
   "metadata": {},
   "outputs": [],
   "source": []
  }
 ],
 "metadata": {
  "kernelspec": {
   "display_name": "Python 3",
   "language": "python",
   "name": "python3"
  },
  "language_info": {
   "codemirror_mode": {
    "name": "ipython",
    "version": 3
   },
   "file_extension": ".py",
   "mimetype": "text/x-python",
   "name": "python",
   "nbconvert_exporter": "python",
   "pygments_lexer": "ipython3",
   "version": "3.6.5"
  },
  "toc": {
   "base_numbering": 1,
   "nav_menu": {},
   "number_sections": true,
   "sideBar": true,
   "skip_h1_title": false,
   "title_cell": "Table of Contents",
   "title_sidebar": "Contents",
   "toc_cell": true,
   "toc_position": {},
   "toc_section_display": true,
   "toc_window_display": true
  },
  "varInspector": {
   "cols": {
    "lenName": 16,
    "lenType": 16,
    "lenVar": 40
   },
   "kernels_config": {
    "python": {
     "delete_cmd_postfix": "",
     "delete_cmd_prefix": "del ",
     "library": "var_list.py",
     "varRefreshCmd": "print(var_dic_list())"
    },
    "r": {
     "delete_cmd_postfix": ") ",
     "delete_cmd_prefix": "rm(",
     "library": "var_list.r",
     "varRefreshCmd": "cat(var_dic_list()) "
    }
   },
   "types_to_exclude": [
    "module",
    "function",
    "builtin_function_or_method",
    "instance",
    "_Feature"
   ],
   "window_display": false
  }
 },
 "nbformat": 4,
 "nbformat_minor": 2
}
