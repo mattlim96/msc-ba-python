{
 "cells": [
  {
   "cell_type": "markdown",
   "metadata": {
    "toc": true
   },
   "source": [
    "<h1>Table of Contents<span class=\"tocSkip\"></span></h1>\n",
    "<div class=\"toc\"><ul class=\"toc-item\"><li><span><a href=\"#README\" data-toc-modified-id=\"README-0\"><span class=\"toc-item-num\">0&nbsp;&nbsp;</span>README</a></span></li><li><span><a href=\"#Numbers\" data-toc-modified-id=\"Numbers-1\"><span class=\"toc-item-num\">1&nbsp;&nbsp;</span>Numbers</a></span><ul class=\"toc-item\"><li><span><a href=\"#Integers\" data-toc-modified-id=\"Integers-1.1\"><span class=\"toc-item-num\">1.1&nbsp;&nbsp;</span>Integers</a></span></li><li><span><a href=\"#Floats\" data-toc-modified-id=\"Floats-1.2\"><span class=\"toc-item-num\">1.2&nbsp;&nbsp;</span>Floats</a></span></li><li><span><a href=\"#Complex-Numbers\" data-toc-modified-id=\"Complex-Numbers-1.3\"><span class=\"toc-item-num\">1.3&nbsp;&nbsp;</span>Complex Numbers</a></span></li><li><span><a href=\"#Mathematical-Operators\" data-toc-modified-id=\"Mathematical-Operators-1.4\"><span class=\"toc-item-num\">1.4&nbsp;&nbsp;</span>Mathematical Operators</a></span></li><li><span><a href=\"#Mathematical-Functions\" data-toc-modified-id=\"Mathematical-Functions-1.5\"><span class=\"toc-item-num\">1.5&nbsp;&nbsp;</span>Mathematical Functions</a></span></li><li><span><a href=\"#An-Excursus-on-Variables\" data-toc-modified-id=\"An-Excursus-on-Variables-1.6\"><span class=\"toc-item-num\">1.6&nbsp;&nbsp;</span>An Excursus on Variables</a></span></li></ul></li><li><span><a href=\"#Strings\" data-toc-modified-id=\"Strings-2\"><span class=\"toc-item-num\">2&nbsp;&nbsp;</span>Strings</a></span><ul class=\"toc-item\"><li><span><a href=\"#Escaping-sequences\" data-toc-modified-id=\"Escaping-sequences-2.1\"><span class=\"toc-item-num\">2.1&nbsp;&nbsp;</span>Escaping sequences</a></span></li><li><span><a href=\"#String-Methods\" data-toc-modified-id=\"String-Methods-2.2\"><span class=\"toc-item-num\">2.2&nbsp;&nbsp;</span>String Methods</a></span></li><li><span><a href=\"#Indexing-and-slicing\" data-toc-modified-id=\"Indexing-and-slicing-2.3\"><span class=\"toc-item-num\">2.3&nbsp;&nbsp;</span>Indexing and slicing</a></span></li></ul></li><li><span><a href=\"#Lists\" data-toc-modified-id=\"Lists-3\"><span class=\"toc-item-num\">3&nbsp;&nbsp;</span>Lists</a></span><ul class=\"toc-item\"><li><span><a href=\"#Initializing-lists\" data-toc-modified-id=\"Initializing-lists-3.1\"><span class=\"toc-item-num\">3.1&nbsp;&nbsp;</span>Initializing lists</a></span></li><li><span><a href=\"#Indexing-and-slicing\" data-toc-modified-id=\"Indexing-and-slicing-3.2\"><span class=\"toc-item-num\">3.2&nbsp;&nbsp;</span>Indexing and slicing</a></span></li><li><span><a href=\"#Mutability\" data-toc-modified-id=\"Mutability-3.3\"><span class=\"toc-item-num\">3.3&nbsp;&nbsp;</span>Mutability</a></span></li><li><span><a href=\"#List-Methods\" data-toc-modified-id=\"List-Methods-3.4\"><span class=\"toc-item-num\">3.4&nbsp;&nbsp;</span>List Methods</a></span></li></ul></li><li><span><a href=\"#Tuples\" data-toc-modified-id=\"Tuples-4\"><span class=\"toc-item-num\">4&nbsp;&nbsp;</span>Tuples</a></span><ul class=\"toc-item\"><li><span><a href=\"#Initializing-Tuples\" data-toc-modified-id=\"Initializing-Tuples-4.1\"><span class=\"toc-item-num\">4.1&nbsp;&nbsp;</span>Initializing Tuples</a></span></li><li><span><a href=\"#Immutability\" data-toc-modified-id=\"Immutability-4.2\"><span class=\"toc-item-num\">4.2&nbsp;&nbsp;</span>Immutability</a></span></li></ul></li><li><span><a href=\"#Iterators\" data-toc-modified-id=\"Iterators-5\"><span class=\"toc-item-num\">5&nbsp;&nbsp;</span>Iterators</a></span><ul class=\"toc-item\"><li><span><a href=\"#For-Loop\" data-toc-modified-id=\"For-Loop-5.1\"><span class=\"toc-item-num\">5.1&nbsp;&nbsp;</span>For Loop</a></span></li><li><span><a href=\"#The-Range-Type\" data-toc-modified-id=\"The-Range-Type-5.2\"><span class=\"toc-item-num\">5.2&nbsp;&nbsp;</span>The Range Type</a></span></li><li><span><a href=\"#Enumerate\" data-toc-modified-id=\"Enumerate-5.3\"><span class=\"toc-item-num\">5.3&nbsp;&nbsp;</span>Enumerate</a></span></li><li><span><a href=\"#Zip\" data-toc-modified-id=\"Zip-5.4\"><span class=\"toc-item-num\">5.4&nbsp;&nbsp;</span>Zip</a></span></li></ul></li><li><span><a href=\"#Dictionaries,-Sets,-and-Everything-Else\" data-toc-modified-id=\"Dictionaries,-Sets,-and-Everything-Else-6\"><span class=\"toc-item-num\">6&nbsp;&nbsp;</span>Dictionaries, Sets, and Everything Else</a></span><ul class=\"toc-item\"><li><span><a href=\"#Initializing-Dictionaries\" data-toc-modified-id=\"Initializing-Dictionaries-6.1\"><span class=\"toc-item-num\">6.1&nbsp;&nbsp;</span>Initializing Dictionaries</a></span></li><li><span><a href=\"#Indexing-Dictionaries\" data-toc-modified-id=\"Indexing-Dictionaries-6.2\"><span class=\"toc-item-num\">6.2&nbsp;&nbsp;</span>Indexing Dictionaries</a></span></li><li><span><a href=\"#Initializing-Sets\" data-toc-modified-id=\"Initializing-Sets-6.3\"><span class=\"toc-item-num\">6.3&nbsp;&nbsp;</span>Initializing Sets</a></span></li></ul></li></ul></div>"
   ]
  },
  {
   "cell_type": "markdown",
   "metadata": {},
   "source": [
    "# README\n",
    "\n",
    "This Jupyter notebook deals with some core elements of the Python language, namely, the various types of Python objects. In his famous book ['Python for Data Analysis'](http://shop.oreilly.com/product/0636920023784.do), McKinney notes:\n",
    "\n",
    "*'An important characteristic of the Python Language is the consistency of its <span class=\"mark\">object model</span>. Every number, string, function, class, module, and so on exists in the Python interpreter in its own 'box,' which is referred to as a Python object. Each object has an associated type (e.g., string or function) and internal data. In practice this makes the language very flexible, as even functions can be treated like any other object.''*\n",
    "\n",
    "Below is a comprehensive list of Python object types:\n",
    "\n",
    "- Numbers \n",
    "- Strings\n",
    "- Lists\n",
    "- Tuples\n",
    "- Iterators\n",
    "- Dictionaries\n",
    "- Sets\n",
    "- Functions\n",
    "- Modules\n",
    "- Classes, instances, and objects\n",
    "- Files\n",
    "- None\n",
    "- Boolean"
   ]
  },
  {
   "cell_type": "markdown",
   "metadata": {},
   "source": [
    "# Numbers"
   ]
  },
  {
   "cell_type": "markdown",
   "metadata": {},
   "source": [
    "Types of Python numbers:\n",
    "\n",
    "- Integers\n",
    "- Floats\n",
    "- Complex numbers"
   ]
  },
  {
   "cell_type": "markdown",
   "metadata": {},
   "source": [
    "## Integers"
   ]
  },
  {
   "cell_type": "code",
   "execution_count": 1,
   "metadata": {},
   "outputs": [
    {
     "data": {
      "text/plain": [
       "2"
      ]
     },
     "execution_count": 1,
     "metadata": {},
     "output_type": "execute_result"
    }
   ],
   "source": [
    "2"
   ]
  },
  {
   "cell_type": "markdown",
   "metadata": {},
   "source": [
    "## Floats"
   ]
  },
  {
   "cell_type": "code",
   "execution_count": 3,
   "metadata": {},
   "outputs": [
    {
     "data": {
      "text/plain": [
       "2.123456789"
      ]
     },
     "execution_count": 3,
     "metadata": {},
     "output_type": "execute_result"
    }
   ],
   "source": [
    "2.123456789"
   ]
  },
  {
   "cell_type": "markdown",
   "metadata": {},
   "source": [
    "## Complex Numbers"
   ]
  },
  {
   "cell_type": "code",
   "execution_count": 4,
   "metadata": {},
   "outputs": [
    {
     "data": {
      "text/plain": [
       "(3+2j)"
      ]
     },
     "execution_count": 4,
     "metadata": {},
     "output_type": "execute_result"
    }
   ],
   "source": [
    "3 + 2j"
   ]
  },
  {
   "cell_type": "markdown",
   "metadata": {},
   "source": [
    "## Mathematical Operators"
   ]
  },
  {
   "cell_type": "markdown",
   "metadata": {},
   "source": [
    "The below displayed table illustrates the set of Python operators along with their description.\n",
    "\n",
    "|Python operator | Description|\n",
    "|:---------------|:-----------|\n",
    "|+               | addition   |\n",
    "|-               | subtraction|\n",
    "|*               | multiplication |\n",
    "|/               | floating point division | \n",
    "|//              | integer division |\n",
    "|%               | modulus (remainder) | \n",
    "|**              | exponentiation |"
   ]
  },
  {
   "cell_type": "code",
   "execution_count": 5,
   "metadata": {},
   "outputs": [
    {
     "data": {
      "text/plain": [
       "3"
      ]
     },
     "execution_count": 5,
     "metadata": {},
     "output_type": "execute_result"
    }
   ],
   "source": [
    "1 + 2"
   ]
  },
  {
   "cell_type": "code",
   "execution_count": 6,
   "metadata": {},
   "outputs": [
    {
     "data": {
      "text/plain": [
       "0.5"
      ]
     },
     "execution_count": 6,
     "metadata": {},
     "output_type": "execute_result"
    }
   ],
   "source": [
    "1 / 2"
   ]
  },
  {
   "cell_type": "code",
   "execution_count": 10,
   "metadata": {},
   "outputs": [
    {
     "data": {
      "text/plain": [
       "4"
      ]
     },
     "execution_count": 10,
     "metadata": {},
     "output_type": "execute_result"
    }
   ],
   "source": [
    "2 ** 2"
   ]
  },
  {
   "cell_type": "markdown",
   "metadata": {},
   "source": [
    "## Mathematical Functions"
   ]
  },
  {
   "cell_type": "markdown",
   "metadata": {},
   "source": [
    "Python 3.6 has a built-in module, [Math](https://docs.python.org/3/library/math.html), offering basic math capabilities."
   ]
  },
  {
   "cell_type": "code",
   "execution_count": 11,
   "metadata": {},
   "outputs": [],
   "source": [
    "import math as mt"
   ]
  },
  {
   "cell_type": "code",
   "execution_count": 12,
   "metadata": {},
   "outputs": [
    {
     "data": {
      "text/plain": [
       "1.0"
      ]
     },
     "execution_count": 12,
     "metadata": {},
     "output_type": "execute_result"
    }
   ],
   "source": [
    "mt.cos(0)"
   ]
  },
  {
   "cell_type": "code",
   "execution_count": 14,
   "metadata": {},
   "outputs": [],
   "source": [
    "X = mt.cos(0)"
   ]
  },
  {
   "cell_type": "code",
   "execution_count": 15,
   "metadata": {},
   "outputs": [
    {
     "data": {
      "text/plain": [
       "1.0"
      ]
     },
     "execution_count": 15,
     "metadata": {},
     "output_type": "execute_result"
    }
   ],
   "source": [
    "X"
   ]
  },
  {
   "cell_type": "markdown",
   "metadata": {},
   "source": [
    "## An Excursus on Variables"
   ]
  },
  {
   "cell_type": "markdown",
   "metadata": {},
   "source": [
    "Here are some rules about what makes a valid variable name:\n",
    "\n",
    "- Variable names are case-sensitive: 'a' and 'A' are different variables;\n",
    "- Variable names can contain any letter, the underscore character (‘_’) and any digit (0–9) but must not start with a digit;\n",
    "- A variable name must not be the same as one of the reserved Python keywords[1];\n",
    "- The built-in constant names True, False and None cannot be assigned as variable names.\n",
    "\n",
    "On top of this, there are good practices in creating variables' names:\n",
    "\n",
    "- Variable names should be meaningful ('area' is better than 'a') ... but not too long ('the_area_of_the_triangle' is unwieldy);\n",
    "- Generally, don’t use I (upper case i), l (lower case L) or the upper case letter O: they look too much like the digits 1 and 0;\n",
    "- The variable names i, j and k are usually used as integer counters;\n",
    "- Use lower case names, with words separated by underscores rather than ‘Camel-Case’: for example, mean_height and not MeanHeight. \n",
    "\n",
    "If you want to get a closer understanding about 'style issues' in Python coding, you're warmly advised to check [PEP 8 -- Style Guide for Python Code](https://www.python.org/dev/peps/pep-0008/?), crafted by the creator of Python, Guido van Rossum.\n",
    "\n",
    "The Spyder IDE offers some routines to evaluate 'how' your script fits with good practices and aesthetic canons diffused among Pythonistas.\n",
    "\n",
    "---\n",
    "\n",
    "Notes:\n",
    "\n",
    "[1] List of Python reserved keywords: and; assert; break; class; continue; def; del; elif; else; except; finally; for; from; global; if; import; in; is; lambda; nonlocal; not; or; pass; print; raise; return; try; while; yield"
   ]
  },
  {
   "cell_type": "markdown",
   "metadata": {},
   "source": [
    "# Strings"
   ]
  },
  {
   "cell_type": "code",
   "execution_count": 15,
   "metadata": {},
   "outputs": [],
   "source": [
    "H = \"Hello world!\""
   ]
  },
  {
   "cell_type": "code",
   "execution_count": 16,
   "metadata": {},
   "outputs": [
    {
     "name": "stdout",
     "output_type": "stream",
     "text": [
      "Hello world!\n"
     ]
    }
   ],
   "source": [
    "print(H)"
   ]
  },
  {
   "cell_type": "code",
   "execution_count": 17,
   "metadata": {},
   "outputs": [],
   "source": [
    "P = \"Python is awesome\""
   ]
  },
  {
   "cell_type": "code",
   "execution_count": 18,
   "metadata": {},
   "outputs": [
    {
     "name": "stdout",
     "output_type": "stream",
     "text": [
      "Hello world! Python is awesome\n"
     ]
    }
   ],
   "source": [
    "# Printing the concatenation of two strings\n",
    "print(H + \" \" + P)"
   ]
  },
  {
   "cell_type": "code",
   "execution_count": 19,
   "metadata": {},
   "outputs": [
    {
     "data": {
      "text/plain": [
       "'Hello world!Hello world!Hello world!Hello world!'"
      ]
     },
     "execution_count": 19,
     "metadata": {},
     "output_type": "execute_result"
    }
   ],
   "source": [
    "# This is a repetition\n",
    "H * 4"
   ]
  },
  {
   "cell_type": "markdown",
   "metadata": {},
   "source": [
    "## Escaping sequences"
   ]
  },
  {
   "cell_type": "markdown",
   "metadata": {},
   "source": [
    "The target string is:\n",
    "\n",
    "Simone said: \"Python is awesome\""
   ]
  },
  {
   "cell_type": "code",
   "execution_count": 20,
   "metadata": {},
   "outputs": [
    {
     "ename": "SyntaxError",
     "evalue": "invalid syntax (<ipython-input-20-97157ce2413e>, line 1)",
     "output_type": "error",
     "traceback": [
      "\u001b[0;36m  File \u001b[0;32m\"<ipython-input-20-97157ce2413e>\"\u001b[0;36m, line \u001b[0;32m1\u001b[0m\n\u001b[0;31m    P = \"Simone said: \"Python is awesome\"\"\u001b[0m\n\u001b[0m                            ^\u001b[0m\n\u001b[0;31mSyntaxError\u001b[0m\u001b[0;31m:\u001b[0m invalid syntax\n"
     ]
    }
   ],
   "source": [
    "P = \"Simone said: \"Python is awesome\"\""
   ]
  },
  {
   "cell_type": "code",
   "execution_count": 21,
   "metadata": {},
   "outputs": [],
   "source": [
    "P = \"Simone said: \\\" Python is awesome \\\"\""
   ]
  },
  {
   "cell_type": "markdown",
   "metadata": {},
   "source": [
    "Common escape sequences in Python\n",
    "\n",
    "Escape sequence | Meaning \n",
    "----------------|---------\n",
    "\\               | Single quote (’ )\n",
    "\\\"              | Double quote (\" )\n",
    "\\n              | Linefeed (LF) \n",
    "\\r              | Carriage return (CR) \n",
    "\\t              | Horizontal tab \n",
    "\\b              | Backspace \n",
    "\\\\              | The backslash character itself \n",
    "\\u,\\U,\\N{}      | Unicode character \n",
    "\\x              | Hex-encoded byte"
   ]
  },
  {
   "cell_type": "markdown",
   "metadata": {},
   "source": [
    "## String Methods"
   ]
  },
  {
   "cell_type": "markdown",
   "metadata": {},
   "source": [
    "The most common string methods.\n",
    "\n",
    "Method | Description\n",
    "-----------|----------\n",
    "center(width) |  Return the string centered in a string with total number of characters width. \n",
    "endswith(suffix) | Return True if the string ends with the substring suffix. \n",
    "startswith(prefix) | Return True if the string starts with the substring prefix. \n",
    "index(substring) | Return the lowest index in the string containing substring. \n",
    "lstrip([chars]) |  Return a copy of the string with any of the leading characters specified by[chars]removed. \n",
    "rstrip([chars]) |  Return a copy of the string with any of the trailing characters specified by[chars]removed. \n",
    "strip([chars]) |  Return a copy of the string with leading and trailing characters specified by[chars]removed.\n",
    "upper() |  Return a copy of the string with all characters in uppercase. \n",
    "lower() |  Return a copy of the string with all characters in lowercase. \n",
    "title() |  Return a copy of the string with all words starting with capitals and other characters in lowercase. \n",
    "replace(old,new) | Return a copy of the string with each substring old replaced with new. \n",
    "split([sep]) | Return alist of substrings from the original string which are separated by the string sep. \n",
    "join([list]) | Use the string as a separator in joining alist of strings. \n",
    "isalpha() | Return True if all characters in the string are alphabetic and the string is not empty; otherwise return False. \n",
    "isdigit() | Return True if all characters in the string are digits and the"
   ]
  },
  {
   "cell_type": "code",
   "execution_count": 22,
   "metadata": {},
   "outputs": [],
   "source": [
    "S = \" Cass\""
   ]
  },
  {
   "cell_type": "code",
   "execution_count": 23,
   "metadata": {},
   "outputs": [
    {
     "data": {
      "text/plain": [
       "5"
      ]
     },
     "execution_count": 23,
     "metadata": {},
     "output_type": "execute_result"
    }
   ],
   "source": [
    "len(S)"
   ]
  },
  {
   "cell_type": "code",
   "execution_count": 24,
   "metadata": {},
   "outputs": [],
   "source": [
    "# example of the 'lstrip' method\n",
    "S = S.lstrip(\" \")\n",
    "len(S)"
   ]
  },
  {
   "cell_type": "code",
   "execution_count": 27,
   "metadata": {},
   "outputs": [
    {
     "name": "stdout",
     "output_type": "stream",
     "text": [
      "CASS\n"
     ]
    }
   ],
   "source": [
    "# example of the 'upper' method\n",
    "S = S.upper()\n",
    "print(S)"
   ]
  },
  {
   "cell_type": "markdown",
   "metadata": {},
   "source": [
    "## Indexing and slicing"
   ]
  },
  {
   "cell_type": "code",
   "execution_count": 28,
   "metadata": {},
   "outputs": [
    {
     "ename": "IndexError",
     "evalue": "string index out of range",
     "output_type": "error",
     "traceback": [
      "\u001b[0;31m---------------------------------------------------------------------------\u001b[0m",
      "\u001b[0;31mIndexError\u001b[0m                                Traceback (most recent call last)",
      "\u001b[0;32m<ipython-input-28-e50e0d1ed9c5>\u001b[0m in \u001b[0;36m<module>\u001b[0;34m()\u001b[0m\n\u001b[0;32m----> 1\u001b[0;31m \u001b[0mS\u001b[0m\u001b[0;34m[\u001b[0m\u001b[0;36m4\u001b[0m\u001b[0;34m]\u001b[0m\u001b[0;34m\u001b[0m\u001b[0m\n\u001b[0m",
      "\u001b[0;31mIndexError\u001b[0m: string index out of range"
     ]
    }
   ],
   "source": [
    "S[4]"
   ]
  },
  {
   "cell_type": "code",
   "execution_count": 29,
   "metadata": {},
   "outputs": [
    {
     "data": {
      "text/plain": [
       "'S'"
      ]
     },
     "execution_count": 29,
     "metadata": {},
     "output_type": "execute_result"
    }
   ],
   "source": [
    "S[3]"
   ]
  },
  {
   "cell_type": "code",
   "execution_count": 30,
   "metadata": {},
   "outputs": [
    {
     "data": {
      "text/plain": [
       "'C'"
      ]
     },
     "execution_count": 30,
     "metadata": {},
     "output_type": "execute_result"
    }
   ],
   "source": [
    "S[0]"
   ]
  },
  {
   "cell_type": "code",
   "execution_count": 31,
   "metadata": {},
   "outputs": [],
   "source": [
    "SUB = S[0:2]"
   ]
  },
  {
   "cell_type": "code",
   "execution_count": 32,
   "metadata": {},
   "outputs": [
    {
     "name": "stdout",
     "output_type": "stream",
     "text": [
      "CA\n"
     ]
    }
   ],
   "source": [
    "print(SUB)"
   ]
  },
  {
   "cell_type": "markdown",
   "metadata": {},
   "source": [
    "# Lists"
   ]
  },
  {
   "cell_type": "markdown",
   "metadata": {},
   "source": [
    "## Initializing lists"
   ]
  },
  {
   "cell_type": "code",
   "execution_count": 37,
   "metadata": {},
   "outputs": [],
   "source": [
    "L = [1, \"two\", 2.34]"
   ]
  },
  {
   "cell_type": "markdown",
   "metadata": {},
   "source": [
    "## Indexing and slicing"
   ]
  },
  {
   "cell_type": "code",
   "execution_count": 38,
   "metadata": {},
   "outputs": [
    {
     "data": {
      "text/plain": [
       "1"
      ]
     },
     "execution_count": 38,
     "metadata": {},
     "output_type": "execute_result"
    }
   ],
   "source": [
    "L[0]"
   ]
  },
  {
   "cell_type": "code",
   "execution_count": 39,
   "metadata": {},
   "outputs": [
    {
     "data": {
      "text/plain": [
       "2.34"
      ]
     },
     "execution_count": 39,
     "metadata": {},
     "output_type": "execute_result"
    }
   ],
   "source": [
    "L[2]"
   ]
  },
  {
   "cell_type": "code",
   "execution_count": 40,
   "metadata": {},
   "outputs": [
    {
     "data": {
      "text/plain": [
       "2.34"
      ]
     },
     "execution_count": 40,
     "metadata": {},
     "output_type": "execute_result"
    }
   ],
   "source": [
    "L[-1]"
   ]
  },
  {
   "cell_type": "markdown",
   "metadata": {},
   "source": [
    "## Mutability"
   ]
  },
  {
   "cell_type": "code",
   "execution_count": 41,
   "metadata": {},
   "outputs": [
    {
     "name": "stdout",
     "output_type": "stream",
     "text": [
      "[1, 'two', 2.34]\n"
     ]
    }
   ],
   "source": [
    "print(L)"
   ]
  },
  {
   "cell_type": "code",
   "execution_count": 42,
   "metadata": {},
   "outputs": [],
   "source": [
    "L[1] = 2 + 4j"
   ]
  },
  {
   "cell_type": "code",
   "execution_count": 43,
   "metadata": {},
   "outputs": [
    {
     "name": "stdout",
     "output_type": "stream",
     "text": [
      "[1, (2+4j), 2.34]\n"
     ]
    }
   ],
   "source": [
    "print(L)"
   ]
  },
  {
   "cell_type": "code",
   "execution_count": 44,
   "metadata": {},
   "outputs": [
    {
     "name": "stdout",
     "output_type": "stream",
     "text": [
      "[1, (2+4j), [1, 2, 3, 4, 5]]\n"
     ]
    }
   ],
   "source": [
    "L[2] = [1, 2, 3, 4, 5]\n",
    "print(L)"
   ]
  },
  {
   "cell_type": "markdown",
   "metadata": {},
   "source": [
    "## List Methods"
   ]
  },
  {
   "cell_type": "markdown",
   "metadata": {},
   "source": [
    "The most common list methods.\n",
    "\n",
    "Method | Description \n",
    "-------|-------------\n",
    "append(element) | Append element to the end of the list. \n",
    "extend(list2)|Extend the list with the elements fromlist2. \n",
    "index(element)|Return the lowest index of the list containingelement. \n",
    "insert(index,element)|Insertelementat indexindex. \n",
    "pop() | Remove and return the last element from the list.\n",
    "reverse() | Reverse the list in place. \n",
    "remove(element) | Remove the first occurrence ofelement from the list. \n",
    "sort() | Sort the list in place. \n",
    "copy() | Return a copy of the list.\n",
    "count | (element)Return the number of elements equal toelement in the list"
   ]
  },
  {
   "cell_type": "code",
   "execution_count": 59,
   "metadata": {},
   "outputs": [
    {
     "name": "stdout",
     "output_type": "stream",
     "text": [
      "[1, (2+4j), [1, 2, 3, 4, 5], 'to_append']\n"
     ]
    }
   ],
   "source": [
    "# example of 'append' method\n",
    "L.append(\"to_append\")\n",
    "print(L)"
   ]
  },
  {
   "cell_type": "code",
   "execution_count": 60,
   "metadata": {},
   "outputs": [
    {
     "name": "stdout",
     "output_type": "stream",
     "text": [
      "[1, (2+4j), [1, 2, 3, 4, 5], 'to_append', 1, 2, 3]\n"
     ]
    }
   ],
   "source": [
    "# example of 'extend' method\n",
    "L2 = [1, 2, 3]\n",
    "L.extend(L2)\n",
    "print(L)"
   ]
  },
  {
   "cell_type": "markdown",
   "metadata": {},
   "source": [
    "# Tuples"
   ]
  },
  {
   "cell_type": "markdown",
   "metadata": {},
   "source": [
    "## Initializing Tuples"
   ]
  },
  {
   "cell_type": "code",
   "execution_count": 61,
   "metadata": {},
   "outputs": [],
   "source": [
    "T = (1, \"two\", 5.56)"
   ]
  },
  {
   "cell_type": "markdown",
   "metadata": {},
   "source": [
    "## Immutability"
   ]
  },
  {
   "cell_type": "code",
   "execution_count": 62,
   "metadata": {},
   "outputs": [
    {
     "ename": "TypeError",
     "evalue": "'tuple' object does not support item assignment",
     "output_type": "error",
     "traceback": [
      "\u001b[0;31m---------------------------------------------------------------------------\u001b[0m",
      "\u001b[0;31mTypeError\u001b[0m                                 Traceback (most recent call last)",
      "\u001b[0;32m<ipython-input-62-dc9f36a7ab5a>\u001b[0m in \u001b[0;36m<module>\u001b[0;34m()\u001b[0m\n\u001b[0;32m----> 1\u001b[0;31m \u001b[0mT\u001b[0m\u001b[0;34m[\u001b[0m\u001b[0;36m0\u001b[0m\u001b[0;34m]\u001b[0m \u001b[0;34m=\u001b[0m \u001b[0;36m2\u001b[0m\u001b[0;34m\u001b[0m\u001b[0m\n\u001b[0m",
      "\u001b[0;31mTypeError\u001b[0m: 'tuple' object does not support item assignment"
     ]
    }
   ],
   "source": [
    "T[0] = 2"
   ]
  },
  {
   "cell_type": "markdown",
   "metadata": {},
   "source": [
    "# Iterators"
   ]
  },
  {
   "cell_type": "markdown",
   "metadata": {},
   "source": [
    "## For Loop"
   ]
  },
  {
   "cell_type": "code",
   "execution_count": 2,
   "metadata": {},
   "outputs": [],
   "source": [
    "MODULES = ['network_analytics', 'machine_learning', 'data_visualization']"
   ]
  },
  {
   "cell_type": "code",
   "execution_count": 5,
   "metadata": {},
   "outputs": [
    {
     "name": "stdout",
     "output_type": "stream",
     "text": [
      "network_analytics\n",
      "machine_learning\n",
      "data_visualization\n"
     ]
    }
   ],
   "source": [
    "for module in MODULES:\n",
    "    print(module)"
   ]
  },
  {
   "cell_type": "markdown",
   "metadata": {},
   "source": [
    "## The Range Type"
   ]
  },
  {
   "cell_type": "code",
   "execution_count": 7,
   "metadata": {},
   "outputs": [
    {
     "data": {
      "text/plain": [
       "range(0, 5)"
      ]
     },
     "execution_count": 7,
     "metadata": {},
     "output_type": "execute_result"
    }
   ],
   "source": [
    "range(5)"
   ]
  },
  {
   "cell_type": "code",
   "execution_count": 8,
   "metadata": {},
   "outputs": [
    {
     "name": "stdout",
     "output_type": "stream",
     "text": [
      "0\n",
      "1\n",
      "2\n",
      "3\n",
      "4\n"
     ]
    }
   ],
   "source": [
    "for x in range(5):\n",
    "    print(x)"
   ]
  },
  {
   "cell_type": "markdown",
   "metadata": {},
   "source": [
    "## Enumerate"
   ]
  },
  {
   "cell_type": "code",
   "execution_count": 10,
   "metadata": {},
   "outputs": [
    {
     "name": "stdout",
     "output_type": "stream",
     "text": [
      "0 - network_analytics\n",
      "1 - machine_learning\n",
      "2 - data_visualization\n"
     ]
    }
   ],
   "source": [
    "for i, module in enumerate(MODULES):\n",
    "    print(i, '-', module)"
   ]
  },
  {
   "cell_type": "code",
   "execution_count": 11,
   "metadata": {},
   "outputs": [
    {
     "name": "stdout",
     "output_type": "stream",
     "text": [
      "0 - network_analytics\n",
      "1 - machine_learning\n",
      "2 - data_visualization\n"
     ]
    }
   ],
   "source": [
    "for i in range(len(MODULES)):\n",
    "    print(i, '-', MODULES[i])"
   ]
  },
  {
   "cell_type": "markdown",
   "metadata": {},
   "source": [
    "## Zip"
   ]
  },
  {
   "cell_type": "code",
   "execution_count": 12,
   "metadata": {},
   "outputs": [],
   "source": [
    "X = [0, 1, 2, 3]\n",
    "Y = ['a', 'b', 'c', 'd']"
   ]
  },
  {
   "cell_type": "code",
   "execution_count": 13,
   "metadata": {},
   "outputs": [
    {
     "data": {
      "text/plain": [
       "<zip at 0x7fc27bf598c8>"
      ]
     },
     "execution_count": 13,
     "metadata": {},
     "output_type": "execute_result"
    }
   ],
   "source": [
    "zip(X, Y)"
   ]
  },
  {
   "cell_type": "code",
   "execution_count": 14,
   "metadata": {},
   "outputs": [
    {
     "name": "stdout",
     "output_type": "stream",
     "text": [
      "(0, 'a')\n",
      "(1, 'b')\n",
      "(2, 'c')\n",
      "(3, 'd')\n"
     ]
    }
   ],
   "source": [
    "for pair in zip(X, Y):\n",
    "    print(pair)"
   ]
  },
  {
   "cell_type": "markdown",
   "metadata": {},
   "source": [
    "# Dictionaries, Sets, and Everything Else"
   ]
  },
  {
   "cell_type": "markdown",
   "metadata": {},
   "source": [
    "## Initializing Dictionaries"
   ]
  },
  {
   "cell_type": "code",
   "execution_count": 15,
   "metadata": {},
   "outputs": [],
   "source": [
    "SPECS = {'777X-9': 425, '787 10': 323, 'A380': 550}"
   ]
  },
  {
   "cell_type": "code",
   "execution_count": 16,
   "metadata": {},
   "outputs": [
    {
     "name": "stdout",
     "output_type": "stream",
     "text": [
      "{'777X-9': 425, '787 10': 323, 'A380': 550}\n"
     ]
    }
   ],
   "source": [
    "print(SPECS)"
   ]
  },
  {
   "cell_type": "markdown",
   "metadata": {},
   "source": [
    "## Indexing Dictionaries"
   ]
  },
  {
   "cell_type": "code",
   "execution_count": 18,
   "metadata": {},
   "outputs": [
    {
     "data": {
      "text/plain": [
       "550"
      ]
     },
     "execution_count": 18,
     "metadata": {},
     "output_type": "execute_result"
    }
   ],
   "source": [
    "SPECS['A380']"
   ]
  },
  {
   "cell_type": "code",
   "execution_count": 19,
   "metadata": {},
   "outputs": [
    {
     "data": {
      "text/plain": [
       "550"
      ]
     },
     "execution_count": 19,
     "metadata": {},
     "output_type": "execute_result"
    }
   ],
   "source": [
    "TARGET = 'A380'\n",
    "SPECS[TARGET]"
   ]
  },
  {
   "cell_type": "markdown",
   "metadata": {},
   "source": [
    "## Initializing Sets"
   ]
  },
  {
   "cell_type": "code",
   "execution_count": 20,
   "metadata": {},
   "outputs": [],
   "source": [
    "SET = set([1, 1, 1, 2, 2, 3, 4, 5, 5, 6, 6])"
   ]
  },
  {
   "cell_type": "code",
   "execution_count": 21,
   "metadata": {},
   "outputs": [
    {
     "data": {
      "text/plain": [
       "{1, 2, 3, 4, 5, 6}"
      ]
     },
     "execution_count": 21,
     "metadata": {},
     "output_type": "execute_result"
    }
   ],
   "source": [
    "SET"
   ]
  },
  {
   "cell_type": "code",
   "execution_count": null,
   "metadata": {},
   "outputs": [],
   "source": []
  },
  {
   "cell_type": "code",
   "execution_count": null,
   "metadata": {},
   "outputs": [],
   "source": [
    "    "
   ]
  }
 ],
 "metadata": {
  "interpreter": {
   "hash": "1fcd4bfa725205e95a3be74a2e7b3f4eeccc4e698a610c9426e5641479bde50b"
  },
  "kernelspec": {
   "display_name": "Python 3.8.8 64-bit ('base': conda)",
   "name": "python3"
  },
  "language_info": {
   "codemirror_mode": {
    "name": "ipython",
    "version": 3
   },
   "file_extension": ".py",
   "mimetype": "text/x-python",
   "name": "python",
   "nbconvert_exporter": "python",
   "pygments_lexer": "ipython3",
   "version": "3.8.8"
  },
  "toc": {
   "base_numbering": "0",
   "nav_menu": {},
   "number_sections": true,
   "sideBar": true,
   "skip_h1_title": false,
   "title_cell": "Table of Contents",
   "title_sidebar": "Contents",
   "toc_cell": true,
   "toc_position": {
    "height": "calc(100% - 180px)",
    "left": "10px",
    "top": "150px",
    "width": "288px"
   },
   "toc_section_display": true,
   "toc_window_display": true
  },
  "varInspector": {
   "cols": {
    "lenName": 16,
    "lenType": 16,
    "lenVar": 40
   },
   "kernels_config": {
    "python": {
     "delete_cmd_postfix": "",
     "delete_cmd_prefix": "del ",
     "library": "var_list.py",
     "varRefreshCmd": "print(var_dic_list())"
    },
    "r": {
     "delete_cmd_postfix": ") ",
     "delete_cmd_prefix": "rm(",
     "library": "var_list.r",
     "varRefreshCmd": "cat(var_dic_list()) "
    }
   },
   "position": {
    "height": "310px",
    "left": "750px",
    "right": "28.1667px",
    "top": "120px",
    "width": "342px"
   },
   "types_to_exclude": [
    "module",
    "function",
    "builtin_function_or_method",
    "instance",
    "_Feature"
   ],
   "window_display": false
  }
 },
 "nbformat": 4,
 "nbformat_minor": 2
}
