{
 "cells": [
  {
   "cell_type": "markdown",
   "source": [
    "<h1>Table of Contents<span class=\"tocSkip\"></span></h1>\n",
    "<div class=\"toc\"><ul class=\"toc-item\"><li><span><a href=\"#README\" data-toc-modified-id=\"README-0\"><span class=\"toc-item-num\">0&nbsp;&nbsp;</span>README</a></span></li><li><span><a href=\"#Numbers\" data-toc-modified-id=\"Numbers-1\"><span class=\"toc-item-num\">1&nbsp;&nbsp;</span>Numbers</a></span><ul class=\"toc-item\"><li><span><a href=\"#Integers\" data-toc-modified-id=\"Integers-1.1\"><span class=\"toc-item-num\">1.1&nbsp;&nbsp;</span>Integers</a></span></li><li><span><a href=\"#Floats\" data-toc-modified-id=\"Floats-1.2\"><span class=\"toc-item-num\">1.2&nbsp;&nbsp;</span>Floats</a></span></li><li><span><a href=\"#Complex-Numbers\" data-toc-modified-id=\"Complex-Numbers-1.3\"><span class=\"toc-item-num\">1.3&nbsp;&nbsp;</span>Complex Numbers</a></span></li><li><span><a href=\"#Mathematical-Operators\" data-toc-modified-id=\"Mathematical-Operators-1.4\"><span class=\"toc-item-num\">1.4&nbsp;&nbsp;</span>Mathematical Operators</a></span></li><li><span><a href=\"#Mathematical-Functions\" data-toc-modified-id=\"Mathematical-Functions-1.5\"><span class=\"toc-item-num\">1.5&nbsp;&nbsp;</span>Mathematical Functions</a></span></li><li><span><a href=\"#An-Excursus-on-Variables\" data-toc-modified-id=\"An-Excursus-on-Variables-1.6\"><span class=\"toc-item-num\">1.6&nbsp;&nbsp;</span>An Excursus on Variables</a></span></li></ul></li><li><span><a href=\"#Strings\" data-toc-modified-id=\"Strings-2\"><span class=\"toc-item-num\">2&nbsp;&nbsp;</span>Strings</a></span><ul class=\"toc-item\"><li><span><a href=\"#Escaping-sequences\" data-toc-modified-id=\"Escaping-sequences-2.1\"><span class=\"toc-item-num\">2.1&nbsp;&nbsp;</span>Escaping sequences</a></span></li><li><span><a href=\"#String-Methods\" data-toc-modified-id=\"String-Methods-2.2\"><span class=\"toc-item-num\">2.2&nbsp;&nbsp;</span>String Methods</a></span></li><li><span><a href=\"#Indexing-and-slicing\" data-toc-modified-id=\"Indexing-and-slicing-2.3\"><span class=\"toc-item-num\">2.3&nbsp;&nbsp;</span>Indexing and slicing</a></span></li></ul></li><li><span><a href=\"#Lists\" data-toc-modified-id=\"Lists-3\"><span class=\"toc-item-num\">3&nbsp;&nbsp;</span>Lists</a></span><ul class=\"toc-item\"><li><span><a href=\"#Initializing-lists\" data-toc-modified-id=\"Initializing-lists-3.1\"><span class=\"toc-item-num\">3.1&nbsp;&nbsp;</span>Initializing lists</a></span></li><li><span><a href=\"#Indexing-and-slicing\" data-toc-modified-id=\"Indexing-and-slicing-3.2\"><span class=\"toc-item-num\">3.2&nbsp;&nbsp;</span>Indexing and slicing</a></span></li><li><span><a href=\"#Mutability\" data-toc-modified-id=\"Mutability-3.3\"><span class=\"toc-item-num\">3.3&nbsp;&nbsp;</span>Mutability</a></span></li><li><span><a href=\"#List-Methods\" data-toc-modified-id=\"List-Methods-3.4\"><span class=\"toc-item-num\">3.4&nbsp;&nbsp;</span>List Methods</a></span></li></ul></li><li><span><a href=\"#Tuples\" data-toc-modified-id=\"Tuples-4\"><span class=\"toc-item-num\">4&nbsp;&nbsp;</span>Tuples</a></span><ul class=\"toc-item\"><li><span><a href=\"#Initializing-Tuples\" data-toc-modified-id=\"Initializing-Tuples-4.1\"><span class=\"toc-item-num\">4.1&nbsp;&nbsp;</span>Initializing Tuples</a></span></li><li><span><a href=\"#Immutability\" data-toc-modified-id=\"Immutability-4.2\"><span class=\"toc-item-num\">4.2&nbsp;&nbsp;</span>Immutability</a></span></li></ul></li><li><span><a href=\"#Iterators\" data-toc-modified-id=\"Iterators-5\"><span class=\"toc-item-num\">5&nbsp;&nbsp;</span>Iterators</a></span><ul class=\"toc-item\"><li><span><a href=\"#For-Loop\" data-toc-modified-id=\"For-Loop-5.1\"><span class=\"toc-item-num\">5.1&nbsp;&nbsp;</span>For Loop</a></span></li><li><span><a href=\"#The-Range-Type\" data-toc-modified-id=\"The-Range-Type-5.2\"><span class=\"toc-item-num\">5.2&nbsp;&nbsp;</span>The Range Type</a></span></li><li><span><a href=\"#Enumerate\" data-toc-modified-id=\"Enumerate-5.3\"><span class=\"toc-item-num\">5.3&nbsp;&nbsp;</span>Enumerate</a></span></li><li><span><a href=\"#Zip\" data-toc-modified-id=\"Zip-5.4\"><span class=\"toc-item-num\">5.4&nbsp;&nbsp;</span>Zip</a></span></li></ul></li><li><span><a href=\"#Dictionaries,-Sets,-and-Everything-Else\" data-toc-modified-id=\"Dictionaries,-Sets,-and-Everything-Else-6\"><span class=\"toc-item-num\">6&nbsp;&nbsp;</span>Dictionaries, Sets, and Everything Else</a></span><ul class=\"toc-item\"><li><span><a href=\"#Initializing-Dictionaries\" data-toc-modified-id=\"Initializing-Dictionaries-6.1\"><span class=\"toc-item-num\">6.1&nbsp;&nbsp;</span>Initializing Dictionaries</a></span></li><li><span><a href=\"#Indexing-Dictionaries\" data-toc-modified-id=\"Indexing-Dictionaries-6.2\"><span class=\"toc-item-num\">6.2&nbsp;&nbsp;</span>Indexing Dictionaries</a></span></li><li><span><a href=\"#Initializing-Sets\" data-toc-modified-id=\"Initializing-Sets-6.3\"><span class=\"toc-item-num\">6.3&nbsp;&nbsp;</span>Initializing Sets</a></span></li></ul></li></ul></div>"
   ],
   "metadata": {
    "toc": true
   }
  },
  {
   "cell_type": "markdown",
   "source": [
    "# README\n",
    "\n",
    "This Jupyter notebook deals with some core elements of the Python language, namely, the various types of Python objects. In his famous book ['Python for Data Analysis'](http://shop.oreilly.com/product/0636920023784.do), McKinney notes:\n",
    "\n",
    "*'An important characteristic of the Python Language is the consistency of its <span class=\"mark\">object model</span>. Every number, string, function, class, module, and so on exists in the Python interpreter in its own 'box,' which is referred to as a Python object. Each object has an associated type (e.g., string or function) and internal data. In practice this makes the language very flexible, as even functions can be treated like any other object.''*\n",
    "\n",
    "Below is a comprehensive list of Python object types:\n",
    "\n",
    "- Numbers \n",
    "- Strings\n",
    "- Lists\n",
    "- Tuples\n",
    "- Iterators\n",
    "- Dictionaries\n",
    "- Sets\n",
    "- Functions\n",
    "- Modules\n",
    "- Classes, instances, and objects\n",
    "- Files\n",
    "- None\n",
    "- Boolean"
   ],
   "metadata": {}
  },
  {
   "cell_type": "markdown",
   "source": [
    "# Numbers"
   ],
   "metadata": {}
  },
  {
   "cell_type": "markdown",
   "source": [
    "Types of Python numbers:\n",
    "\n",
    "- Integers\n",
    "- Floats\n",
    "- Complex numbers"
   ],
   "metadata": {}
  },
  {
   "cell_type": "markdown",
   "source": [
    "## Integers"
   ],
   "metadata": {}
  },
  {
   "cell_type": "code",
   "execution_count": 1,
   "source": [
    "2"
   ],
   "outputs": [
    {
     "output_type": "execute_result",
     "data": {
      "text/plain": [
       "2"
      ]
     },
     "metadata": {},
     "execution_count": 1
    }
   ],
   "metadata": {}
  },
  {
   "cell_type": "markdown",
   "source": [
    "## Floats"
   ],
   "metadata": {}
  },
  {
   "cell_type": "code",
   "execution_count": 3,
   "source": [
    "2.123456789"
   ],
   "outputs": [
    {
     "output_type": "execute_result",
     "data": {
      "text/plain": [
       "2.123456789"
      ]
     },
     "metadata": {},
     "execution_count": 3
    }
   ],
   "metadata": {}
  },
  {
   "cell_type": "markdown",
   "source": [
    "## Complex Numbers"
   ],
   "metadata": {}
  },
  {
   "cell_type": "code",
   "execution_count": 4,
   "source": [
    "3 + 2j"
   ],
   "outputs": [
    {
     "output_type": "execute_result",
     "data": {
      "text/plain": [
       "(3+2j)"
      ]
     },
     "metadata": {},
     "execution_count": 4
    }
   ],
   "metadata": {}
  },
  {
   "cell_type": "markdown",
   "source": [
    "## Mathematical Operators"
   ],
   "metadata": {}
  },
  {
   "cell_type": "markdown",
   "source": [
    "The below displayed table illustrates the set of Python operators along with their description.\n",
    "\n",
    "|Python operator | Description|\n",
    "|:---------------|:-----------|\n",
    "|+               | addition   |\n",
    "|-               | subtraction|\n",
    "|*               | multiplication |\n",
    "|/               | floating point division | \n",
    "|//              | integer division |\n",
    "|%               | modulus (remainder) | \n",
    "|**              | exponentiation |"
   ],
   "metadata": {}
  },
  {
   "cell_type": "code",
   "execution_count": 5,
   "source": [
    "1 + 2"
   ],
   "outputs": [
    {
     "output_type": "execute_result",
     "data": {
      "text/plain": [
       "3"
      ]
     },
     "metadata": {},
     "execution_count": 5
    }
   ],
   "metadata": {}
  },
  {
   "cell_type": "code",
   "execution_count": 6,
   "source": [
    "1 / 2"
   ],
   "outputs": [
    {
     "output_type": "execute_result",
     "data": {
      "text/plain": [
       "0.5"
      ]
     },
     "metadata": {},
     "execution_count": 6
    }
   ],
   "metadata": {}
  },
  {
   "cell_type": "code",
   "execution_count": 10,
   "source": [
    "2 ** 2"
   ],
   "outputs": [
    {
     "output_type": "execute_result",
     "data": {
      "text/plain": [
       "4"
      ]
     },
     "metadata": {},
     "execution_count": 10
    }
   ],
   "metadata": {}
  },
  {
   "cell_type": "markdown",
   "source": [
    "## Mathematical Functions"
   ],
   "metadata": {}
  },
  {
   "cell_type": "markdown",
   "source": [
    "Python 3.6 has a built-in module, [Math](https://docs.python.org/3/library/math.html), offering basic math capabilities."
   ],
   "metadata": {}
  },
  {
   "cell_type": "code",
   "execution_count": 11,
   "source": [
    "import math as mt"
   ],
   "outputs": [],
   "metadata": {}
  },
  {
   "cell_type": "code",
   "execution_count": 12,
   "source": [
    "mt.cos(0)"
   ],
   "outputs": [
    {
     "output_type": "execute_result",
     "data": {
      "text/plain": [
       "1.0"
      ]
     },
     "metadata": {},
     "execution_count": 12
    }
   ],
   "metadata": {}
  },
  {
   "cell_type": "code",
   "execution_count": 14,
   "source": [
    "X = mt.cos(0)"
   ],
   "outputs": [],
   "metadata": {}
  },
  {
   "cell_type": "code",
   "execution_count": 15,
   "source": [
    "X"
   ],
   "outputs": [
    {
     "output_type": "execute_result",
     "data": {
      "text/plain": [
       "1.0"
      ]
     },
     "metadata": {},
     "execution_count": 15
    }
   ],
   "metadata": {}
  },
  {
   "cell_type": "markdown",
   "source": [
    "## An Excursus on Variables"
   ],
   "metadata": {}
  },
  {
   "cell_type": "markdown",
   "source": [
    "Here are some rules about what makes a valid variable name:\n",
    "\n",
    "- Variable names are case-sensitive: 'a' and 'A' are different variables;\n",
    "- Variable names can contain any letter, the underscore character (‘_’) and any digit (0–9) but must not start with a digit;\n",
    "- A variable name must not be the same as one of the reserved Python keywords[1];\n",
    "- The built-in constant names True, False and None cannot be assigned as variable names.\n",
    "\n",
    "On top of this, there are good practices in creating variables' names:\n",
    "\n",
    "- Variable names should be meaningful ('area' is better than 'a') ... but not too long ('the_area_of_the_triangle' is unwieldy);\n",
    "- Generally, don’t use I (upper case i), l (lower case L) or the upper case letter O: they look too much like the digits 1 and 0;\n",
    "- The variable names i, j and k are usually used as integer counters;\n",
    "- Use lower case names, with words separated by underscores rather than ‘Camel-Case’: for example, mean_height and not MeanHeight. \n",
    "\n",
    "If you want to get a closer understanding about 'style issues' in Python coding, you're warmly advised to check [PEP 8 -- Style Guide for Python Code](https://www.python.org/dev/peps/pep-0008/?), crafted by the creator of Python, Guido van Rossum.\n",
    "\n",
    "The Spyder IDE offers some routines to evaluate 'how' your script fits with good practices and aesthetic canons diffused among Pythonistas.\n",
    "\n",
    "---\n",
    "\n",
    "Notes:\n",
    "\n",
    "[1] List of Python reserved keywords: and; assert; break; class; continue; def; del; elif; else; except; finally; for; from; global; if; import; in; is; lambda; nonlocal; not; or; pass; print; raise; return; try; while; yield"
   ],
   "metadata": {}
  },
  {
   "cell_type": "markdown",
   "source": [
    "# Strings"
   ],
   "metadata": {}
  },
  {
   "cell_type": "code",
   "execution_count": 15,
   "source": [
    "H = \"Hello world!\""
   ],
   "outputs": [],
   "metadata": {}
  },
  {
   "cell_type": "code",
   "execution_count": 16,
   "source": [
    "print(H)"
   ],
   "outputs": [
    {
     "output_type": "stream",
     "name": "stdout",
     "text": [
      "Hello world!\n"
     ]
    }
   ],
   "metadata": {}
  },
  {
   "cell_type": "code",
   "execution_count": 17,
   "source": [
    "P = \"Python is awesome\""
   ],
   "outputs": [],
   "metadata": {}
  },
  {
   "cell_type": "code",
   "execution_count": 18,
   "source": [
    "# Printing the concatenation of two strings\r\n",
    "print(H + \" \" + P)"
   ],
   "outputs": [
    {
     "output_type": "stream",
     "name": "stdout",
     "text": [
      "Hello world! Python is awesome\n"
     ]
    }
   ],
   "metadata": {}
  },
  {
   "cell_type": "code",
   "execution_count": 19,
   "source": [
    "# This is a repetition\r\n",
    "H * 4"
   ],
   "outputs": [
    {
     "output_type": "execute_result",
     "data": {
      "text/plain": [
       "'Hello world!Hello world!Hello world!Hello world!'"
      ]
     },
     "metadata": {},
     "execution_count": 19
    }
   ],
   "metadata": {}
  },
  {
   "cell_type": "markdown",
   "source": [
    "## Escaping sequences"
   ],
   "metadata": {}
  },
  {
   "cell_type": "markdown",
   "source": [
    "The target string is:\n",
    "\n",
    "Simone said: \"Python is awesome\""
   ],
   "metadata": {}
  },
  {
   "cell_type": "code",
   "execution_count": 20,
   "source": [
    "P = \"Simone said: \"Python is awesome\"\""
   ],
   "outputs": [
    {
     "output_type": "error",
     "ename": "SyntaxError",
     "evalue": "invalid syntax (<ipython-input-20-97157ce2413e>, line 1)",
     "traceback": [
      "\u001b[0;36m  File \u001b[0;32m\"<ipython-input-20-97157ce2413e>\"\u001b[0;36m, line \u001b[0;32m1\u001b[0m\n\u001b[0;31m    P = \"Simone said: \"Python is awesome\"\"\u001b[0m\n\u001b[0m                            ^\u001b[0m\n\u001b[0;31mSyntaxError\u001b[0m\u001b[0;31m:\u001b[0m invalid syntax\n"
     ]
    }
   ],
   "metadata": {}
  },
  {
   "cell_type": "code",
   "execution_count": 21,
   "source": [
    "P = \"Simone said: \\\" Python is awesome \\\"\""
   ],
   "outputs": [],
   "metadata": {}
  },
  {
   "cell_type": "markdown",
   "source": [
    "Common escape sequences in Python\n",
    "\n",
    "Escape sequence | Meaning \n",
    "----------------|---------\n",
    "\\               | Single quote (’ )\n",
    "\\\"              | Double quote (\" )\n",
    "\\n              | Linefeed (LF) \n",
    "\\r              | Carriage return (CR) \n",
    "\\t              | Horizontal tab \n",
    "\\b              | Backspace \n",
    "\\\\              | The backslash character itself \n",
    "\\u,\\U,\\N{}      | Unicode character \n",
    "\\x              | Hex-encoded byte"
   ],
   "metadata": {}
  },
  {
   "cell_type": "markdown",
   "source": [
    "## String Methods"
   ],
   "metadata": {}
  },
  {
   "cell_type": "markdown",
   "source": [
    "The most common string methods.\n",
    "\n",
    "Method | Description\n",
    "-----------|----------\n",
    "center(width) |  Return the string centered in a string with total number of characters width. \n",
    "endswith(suffix) | Return True if the string ends with the substring suffix. \n",
    "startswith(prefix) | Return True if the string starts with the substring prefix. \n",
    "index(substring) | Return the lowest index in the string containing substring. \n",
    "lstrip([chars]) |  Return a copy of the string with any of the leading characters specified by[chars]removed. \n",
    "rstrip([chars]) |  Return a copy of the string with any of the trailing characters specified by[chars]removed. \n",
    "strip([chars]) |  Return a copy of the string with leading and trailing characters specified by[chars]removed.\n",
    "upper() |  Return a copy of the string with all characters in uppercase. \n",
    "lower() |  Return a copy of the string with all characters in lowercase. \n",
    "title() |  Return a copy of the string with all words starting with capitals and other characters in lowercase. \n",
    "replace(old,new) | Return a copy of the string with each substring old replaced with new. \n",
    "split([sep]) | Return alist of substrings from the original string which are separated by the string sep. \n",
    "join([list]) | Use the string as a separator in joining alist of strings. \n",
    "isalpha() | Return True if all characters in the string are alphabetic and the string is not empty; otherwise return False. \n",
    "isdigit() | Return True if all characters in the string are digits and the"
   ],
   "metadata": {}
  },
  {
   "cell_type": "code",
   "execution_count": 22,
   "source": [
    "S = \" Cass\""
   ],
   "outputs": [],
   "metadata": {}
  },
  {
   "cell_type": "code",
   "execution_count": 23,
   "source": [
    "len(S)"
   ],
   "outputs": [
    {
     "output_type": "execute_result",
     "data": {
      "text/plain": [
       "5"
      ]
     },
     "metadata": {},
     "execution_count": 23
    }
   ],
   "metadata": {}
  },
  {
   "cell_type": "code",
   "execution_count": 24,
   "source": [
    "# example of the 'lstrip' method\r\n",
    "S = S.lstrip(\" \")\r\n",
    "len(S)"
   ],
   "outputs": [],
   "metadata": {}
  },
  {
   "cell_type": "code",
   "execution_count": 27,
   "source": [
    "# example of the 'upper' method\r\n",
    "S = S.upper()\r\n",
    "print(S)"
   ],
   "outputs": [
    {
     "output_type": "stream",
     "name": "stdout",
     "text": [
      "CASS\n"
     ]
    }
   ],
   "metadata": {}
  },
  {
   "cell_type": "markdown",
   "source": [
    "## Indexing and slicing"
   ],
   "metadata": {}
  },
  {
   "cell_type": "code",
   "execution_count": 28,
   "source": [
    "S[4]"
   ],
   "outputs": [
    {
     "output_type": "error",
     "ename": "IndexError",
     "evalue": "string index out of range",
     "traceback": [
      "\u001b[0;31m---------------------------------------------------------------------------\u001b[0m",
      "\u001b[0;31mIndexError\u001b[0m                                Traceback (most recent call last)",
      "\u001b[0;32m<ipython-input-28-e50e0d1ed9c5>\u001b[0m in \u001b[0;36m<module>\u001b[0;34m()\u001b[0m\n\u001b[0;32m----> 1\u001b[0;31m \u001b[0mS\u001b[0m\u001b[0;34m[\u001b[0m\u001b[0;36m4\u001b[0m\u001b[0;34m]\u001b[0m\u001b[0;34m\u001b[0m\u001b[0m\n\u001b[0m",
      "\u001b[0;31mIndexError\u001b[0m: string index out of range"
     ]
    }
   ],
   "metadata": {}
  },
  {
   "cell_type": "code",
   "execution_count": 29,
   "source": [
    "S[3]"
   ],
   "outputs": [
    {
     "output_type": "execute_result",
     "data": {
      "text/plain": [
       "'S'"
      ]
     },
     "metadata": {},
     "execution_count": 29
    }
   ],
   "metadata": {}
  },
  {
   "cell_type": "code",
   "execution_count": 30,
   "source": [
    "S[0]"
   ],
   "outputs": [
    {
     "output_type": "execute_result",
     "data": {
      "text/plain": [
       "'C'"
      ]
     },
     "metadata": {},
     "execution_count": 30
    }
   ],
   "metadata": {}
  },
  {
   "cell_type": "code",
   "execution_count": 31,
   "source": [
    "SUB = S[0:2]"
   ],
   "outputs": [],
   "metadata": {}
  },
  {
   "cell_type": "code",
   "execution_count": 32,
   "source": [
    "print(SUB)"
   ],
   "outputs": [
    {
     "output_type": "stream",
     "name": "stdout",
     "text": [
      "CA\n"
     ]
    }
   ],
   "metadata": {}
  },
  {
   "cell_type": "markdown",
   "source": [
    "# Lists"
   ],
   "metadata": {}
  },
  {
   "cell_type": "markdown",
   "source": [
    "## Initializing lists"
   ],
   "metadata": {}
  },
  {
   "cell_type": "code",
   "execution_count": 37,
   "source": [
    "L = [1, \"two\", 2.34]"
   ],
   "outputs": [],
   "metadata": {}
  },
  {
   "cell_type": "markdown",
   "source": [
    "## Indexing and slicing"
   ],
   "metadata": {}
  },
  {
   "cell_type": "code",
   "execution_count": 38,
   "source": [
    "L[0]"
   ],
   "outputs": [
    {
     "output_type": "execute_result",
     "data": {
      "text/plain": [
       "1"
      ]
     },
     "metadata": {},
     "execution_count": 38
    }
   ],
   "metadata": {}
  },
  {
   "cell_type": "code",
   "execution_count": 39,
   "source": [
    "L[2]"
   ],
   "outputs": [
    {
     "output_type": "execute_result",
     "data": {
      "text/plain": [
       "2.34"
      ]
     },
     "metadata": {},
     "execution_count": 39
    }
   ],
   "metadata": {}
  },
  {
   "cell_type": "code",
   "execution_count": 40,
   "source": [
    "L[-1]"
   ],
   "outputs": [
    {
     "output_type": "execute_result",
     "data": {
      "text/plain": [
       "2.34"
      ]
     },
     "metadata": {},
     "execution_count": 40
    }
   ],
   "metadata": {}
  },
  {
   "cell_type": "markdown",
   "source": [
    "## Mutability"
   ],
   "metadata": {}
  },
  {
   "cell_type": "code",
   "execution_count": 41,
   "source": [
    "print(L)"
   ],
   "outputs": [
    {
     "output_type": "stream",
     "name": "stdout",
     "text": [
      "[1, 'two', 2.34]\n"
     ]
    }
   ],
   "metadata": {}
  },
  {
   "cell_type": "code",
   "execution_count": 42,
   "source": [
    "L[1] = 2 + 4j"
   ],
   "outputs": [],
   "metadata": {}
  },
  {
   "cell_type": "code",
   "execution_count": 43,
   "source": [
    "print(L)"
   ],
   "outputs": [
    {
     "output_type": "stream",
     "name": "stdout",
     "text": [
      "[1, (2+4j), 2.34]\n"
     ]
    }
   ],
   "metadata": {}
  },
  {
   "cell_type": "code",
   "execution_count": 44,
   "source": [
    "L[2] = [1, 2, 3, 4, 5]\r\n",
    "print(L)"
   ],
   "outputs": [
    {
     "output_type": "stream",
     "name": "stdout",
     "text": [
      "[1, (2+4j), [1, 2, 3, 4, 5]]\n"
     ]
    }
   ],
   "metadata": {}
  },
  {
   "cell_type": "markdown",
   "source": [
    "## List Methods"
   ],
   "metadata": {}
  },
  {
   "cell_type": "markdown",
   "source": [
    "The most common list methods.\n",
    "\n",
    "Method | Description \n",
    "-------|-------------\n",
    "append(element) | Append element to the end of the list. \n",
    "extend(list2)|Extend the list with the elements fromlist2. \n",
    "index(element)|Return the lowest index of the list containingelement. \n",
    "insert(index,element)|Insertelementat indexindex. \n",
    "pop() | Remove and return the last element from the list.\n",
    "reverse() | Reverse the list in place. \n",
    "remove(element) | Remove the first occurrence ofelement from the list. \n",
    "sort() | Sort the list in place. \n",
    "copy() | Return a copy of the list.\n",
    "count | (element)Return the number of elements equal toelement in the list"
   ],
   "metadata": {}
  },
  {
   "cell_type": "code",
   "execution_count": 59,
   "source": [
    "# example of 'append' method\r\n",
    "L.append(\"to_append\")\r\n",
    "print(L)"
   ],
   "outputs": [
    {
     "output_type": "stream",
     "name": "stdout",
     "text": [
      "[1, (2+4j), [1, 2, 3, 4, 5], 'to_append']\n"
     ]
    }
   ],
   "metadata": {}
  },
  {
   "cell_type": "code",
   "execution_count": 60,
   "source": [
    "# example of 'extend' method\r\n",
    "L2 = [1, 2, 3]\r\n",
    "L.extend(L2)\r\n",
    "print(L)"
   ],
   "outputs": [
    {
     "output_type": "stream",
     "name": "stdout",
     "text": [
      "[1, (2+4j), [1, 2, 3, 4, 5], 'to_append', 1, 2, 3]\n"
     ]
    }
   ],
   "metadata": {}
  },
  {
   "cell_type": "markdown",
   "source": [
    "# Tuples"
   ],
   "metadata": {}
  },
  {
   "cell_type": "markdown",
   "source": [
    "## Initializing Tuples"
   ],
   "metadata": {}
  },
  {
   "cell_type": "code",
   "execution_count": 61,
   "source": [
    "T = (1, \"two\", 5.56)"
   ],
   "outputs": [],
   "metadata": {}
  },
  {
   "cell_type": "markdown",
   "source": [
    "## Immutability"
   ],
   "metadata": {}
  },
  {
   "cell_type": "code",
   "execution_count": 62,
   "source": [
    "T[0] = 2"
   ],
   "outputs": [
    {
     "output_type": "error",
     "ename": "TypeError",
     "evalue": "'tuple' object does not support item assignment",
     "traceback": [
      "\u001b[0;31m---------------------------------------------------------------------------\u001b[0m",
      "\u001b[0;31mTypeError\u001b[0m                                 Traceback (most recent call last)",
      "\u001b[0;32m<ipython-input-62-dc9f36a7ab5a>\u001b[0m in \u001b[0;36m<module>\u001b[0;34m()\u001b[0m\n\u001b[0;32m----> 1\u001b[0;31m \u001b[0mT\u001b[0m\u001b[0;34m[\u001b[0m\u001b[0;36m0\u001b[0m\u001b[0;34m]\u001b[0m \u001b[0;34m=\u001b[0m \u001b[0;36m2\u001b[0m\u001b[0;34m\u001b[0m\u001b[0m\n\u001b[0m",
      "\u001b[0;31mTypeError\u001b[0m: 'tuple' object does not support item assignment"
     ]
    }
   ],
   "metadata": {}
  },
  {
   "cell_type": "markdown",
   "source": [
    "# Iterators"
   ],
   "metadata": {}
  },
  {
   "cell_type": "markdown",
   "source": [
    "## For Loop"
   ],
   "metadata": {}
  },
  {
   "cell_type": "code",
   "execution_count": 2,
   "source": [
    "MODULES = ['network_analytics', 'machine_learning', 'data_visualization']"
   ],
   "outputs": [],
   "metadata": {}
  },
  {
   "cell_type": "code",
   "execution_count": 5,
   "source": [
    "for module in MODULES:\r\n",
    "    print(module)"
   ],
   "outputs": [
    {
     "output_type": "stream",
     "name": "stdout",
     "text": [
      "network_analytics\n",
      "machine_learning\n",
      "data_visualization\n"
     ]
    }
   ],
   "metadata": {}
  },
  {
   "cell_type": "markdown",
   "source": [
    "## The Range Type"
   ],
   "metadata": {}
  },
  {
   "cell_type": "code",
   "execution_count": 7,
   "source": [
    "range(5)"
   ],
   "outputs": [
    {
     "output_type": "execute_result",
     "data": {
      "text/plain": [
       "range(0, 5)"
      ]
     },
     "metadata": {},
     "execution_count": 7
    }
   ],
   "metadata": {}
  },
  {
   "cell_type": "code",
   "execution_count": 8,
   "source": [
    "for x in range(5):\r\n",
    "    print(x)"
   ],
   "outputs": [
    {
     "output_type": "stream",
     "name": "stdout",
     "text": [
      "0\n",
      "1\n",
      "2\n",
      "3\n",
      "4\n"
     ]
    }
   ],
   "metadata": {}
  },
  {
   "cell_type": "markdown",
   "source": [
    "## Enumerate"
   ],
   "metadata": {}
  },
  {
   "cell_type": "code",
   "execution_count": 10,
   "source": [
    "for i, module in enumerate(MODULES):\r\n",
    "    print(i, '-', module)"
   ],
   "outputs": [
    {
     "output_type": "stream",
     "name": "stdout",
     "text": [
      "0 - network_analytics\n",
      "1 - machine_learning\n",
      "2 - data_visualization\n"
     ]
    }
   ],
   "metadata": {}
  },
  {
   "cell_type": "code",
   "execution_count": 11,
   "source": [
    "for i in range(len(MODULES)):\r\n",
    "    print(i, '-', MODULES[i])"
   ],
   "outputs": [
    {
     "output_type": "stream",
     "name": "stdout",
     "text": [
      "0 - network_analytics\n",
      "1 - machine_learning\n",
      "2 - data_visualization\n"
     ]
    }
   ],
   "metadata": {}
  },
  {
   "cell_type": "markdown",
   "source": [
    "## Zip"
   ],
   "metadata": {}
  },
  {
   "cell_type": "code",
   "execution_count": 12,
   "source": [
    "X = [0, 1, 2, 3]\r\n",
    "Y = ['a', 'b', 'c', 'd']"
   ],
   "outputs": [],
   "metadata": {}
  },
  {
   "cell_type": "code",
   "execution_count": 13,
   "source": [
    "zip(X, Y)"
   ],
   "outputs": [
    {
     "output_type": "execute_result",
     "data": {
      "text/plain": [
       "<zip at 0x7fc27bf598c8>"
      ]
     },
     "metadata": {},
     "execution_count": 13
    }
   ],
   "metadata": {}
  },
  {
   "cell_type": "code",
   "execution_count": 14,
   "source": [
    "for pair in zip(X, Y):\r\n",
    "    print(pair)"
   ],
   "outputs": [
    {
     "output_type": "stream",
     "name": "stdout",
     "text": [
      "(0, 'a')\n",
      "(1, 'b')\n",
      "(2, 'c')\n",
      "(3, 'd')\n"
     ]
    }
   ],
   "metadata": {}
  },
  {
   "cell_type": "markdown",
   "source": [
    "# Dictionaries, Sets, and Everything Else"
   ],
   "metadata": {}
  },
  {
   "cell_type": "markdown",
   "source": [
    "## Initializing Dictionaries"
   ],
   "metadata": {}
  },
  {
   "cell_type": "code",
   "execution_count": 15,
   "source": [
    "SPECS = {'777X-9': 425, '787 10': 323, 'A380': 550}"
   ],
   "outputs": [],
   "metadata": {}
  },
  {
   "cell_type": "code",
   "execution_count": 16,
   "source": [
    "print(SPECS)"
   ],
   "outputs": [
    {
     "output_type": "stream",
     "name": "stdout",
     "text": [
      "{'777X-9': 425, '787 10': 323, 'A380': 550}\n"
     ]
    }
   ],
   "metadata": {}
  },
  {
   "cell_type": "markdown",
   "source": [
    "## Indexing Dictionaries"
   ],
   "metadata": {}
  },
  {
   "cell_type": "code",
   "execution_count": 18,
   "source": [
    "SPECS['A380']"
   ],
   "outputs": [
    {
     "output_type": "execute_result",
     "data": {
      "text/plain": [
       "550"
      ]
     },
     "metadata": {},
     "execution_count": 18
    }
   ],
   "metadata": {}
  },
  {
   "cell_type": "code",
   "execution_count": 19,
   "source": [
    "TARGET = 'A380'\r\n",
    "SPECS[TARGET]"
   ],
   "outputs": [
    {
     "output_type": "execute_result",
     "data": {
      "text/plain": [
       "550"
      ]
     },
     "metadata": {},
     "execution_count": 19
    }
   ],
   "metadata": {}
  },
  {
   "cell_type": "markdown",
   "source": [
    "## Initializing Sets"
   ],
   "metadata": {}
  },
  {
   "cell_type": "code",
   "execution_count": 20,
   "source": [
    "SET = set([1, 1, 1, 2, 2, 3, 4, 5, 5, 6, 6])"
   ],
   "outputs": [],
   "metadata": {}
  },
  {
   "cell_type": "code",
   "execution_count": 21,
   "source": [
    "SET"
   ],
   "outputs": [
    {
     "output_type": "execute_result",
     "data": {
      "text/plain": [
       "{1, 2, 3, 4, 5, 6}"
      ]
     },
     "metadata": {},
     "execution_count": 21
    }
   ],
   "metadata": {}
  },
  {
   "cell_type": "code",
   "execution_count": null,
   "source": [],
   "outputs": [],
   "metadata": {}
  },
  {
   "cell_type": "code",
   "execution_count": null,
   "source": [
    "    "
   ],
   "outputs": [],
   "metadata": {}
  }
 ],
 "metadata": {
  "kernelspec": {
   "name": "python3",
   "display_name": "Python 3.8.11 64-bit ('base': conda)"
  },
  "language_info": {
   "codemirror_mode": {
    "name": "ipython",
    "version": 3
   },
   "file_extension": ".py",
   "mimetype": "text/x-python",
   "name": "python",
   "nbconvert_exporter": "python",
   "pygments_lexer": "ipython3",
   "version": "3.8.11"
  },
  "toc": {
   "base_numbering": "0",
   "nav_menu": {},
   "number_sections": true,
   "sideBar": true,
   "skip_h1_title": false,
   "title_cell": "Table of Contents",
   "title_sidebar": "Contents",
   "toc_cell": true,
   "toc_position": {
    "height": "calc(100% - 180px)",
    "left": "10px",
    "top": "150px",
    "width": "288px"
   },
   "toc_section_display": true,
   "toc_window_display": true
  },
  "varInspector": {
   "cols": {
    "lenName": 16,
    "lenType": 16,
    "lenVar": 40
   },
   "kernels_config": {
    "python": {
     "delete_cmd_postfix": "",
     "delete_cmd_prefix": "del ",
     "library": "var_list.py",
     "varRefreshCmd": "print(var_dic_list())"
    },
    "r": {
     "delete_cmd_postfix": ") ",
     "delete_cmd_prefix": "rm(",
     "library": "var_list.r",
     "varRefreshCmd": "cat(var_dic_list()) "
    }
   },
   "position": {
    "height": "310px",
    "left": "750px",
    "right": "28.1667px",
    "top": "120px",
    "width": "342px"
   },
   "types_to_exclude": [
    "module",
    "function",
    "builtin_function_or_method",
    "instance",
    "_Feature"
   ],
   "window_display": false
  },
  "interpreter": {
   "hash": "dca0ade3e726a953b501b15e8e990130d2b7799f14cfd9f4271676035ebe5511"
  }
 },
 "nbformat": 4,
 "nbformat_minor": 2
}