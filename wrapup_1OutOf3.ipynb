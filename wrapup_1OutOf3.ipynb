{
 "cells": [
  {
   "cell_type": "markdown",
   "source": [
    "<h1>Table of Contents<span class=\"tocSkip\"></span></h1>\n",
    "<div class=\"toc\"><ul class=\"toc-item\"><li><span><a href=\"#Problem-1\" data-toc-modified-id=\"Problem-1-1\"><span class=\"toc-item-num\">1&nbsp;&nbsp;</span>Problem 1</a></span><ul class=\"toc-item\"><li><span><a href=\"#Create-a-new-function-involving-at-least-a-Numpy-module/function-(e.g.,-np.mean)\" data-toc-modified-id=\"Create-a-new-function-involving-at-least-a-Numpy-module/function-(e.g.,-np.mean)-1.1\"><span class=\"toc-item-num\">1.1&nbsp;&nbsp;</span>Create a new function involving at least a Numpy module/function (e.g., np.mean)</a></span></li><li><span><a href=\"#Initialize-a-new-list\" data-toc-modified-id=\"Initialize-a-new-list-1.2\"><span class=\"toc-item-num\">1.2&nbsp;&nbsp;</span>Initialize a new list</a></span></li><li><span><a href=\"#Apply-your-function-over-the-list\" data-toc-modified-id=\"Apply-your-function-over-the-list-1.3\"><span class=\"toc-item-num\">1.3&nbsp;&nbsp;</span>Apply your function over the list</a></span></li><li><span><a href=\"#Apply-your-function-over-the-list-conditionally-on-list's-elements-attributes\" data-toc-modified-id=\"Apply-your-function-over-the-list-conditionally-on-list's-elements-attributes-1.4\"><span class=\"toc-item-num\">1.4&nbsp;&nbsp;</span>Apply your function over the list conditionally on list's elements attributes</a></span></li></ul></li><li><span><a href=\"#Problem-2\" data-toc-modified-id=\"Problem-2-2\"><span class=\"toc-item-num\">2&nbsp;&nbsp;</span>Problem 2</a></span><ul class=\"toc-item\"><li><span><a href=\"#Create-a-new-function-taking-two-arguments-and-involving-at-least-a-'while'-loop-and-'enumerate'\" data-toc-modified-id=\"Create-a-new-function-taking-two-arguments-and-involving-at-least-a-'while'-loop-and-'enumerate'-2.1\"><span class=\"toc-item-num\">2.1&nbsp;&nbsp;</span>Create a new function taking two arguments and involving at least a 'while' loop and 'enumerate'</a></span></li><li><span><a href=\"#Initialize-two-lists,-one-containing-strings,-another-containing-numbers\" data-toc-modified-id=\"Initialize-two-lists,-one-containing-strings,-another-containing-numbers-2.2\"><span class=\"toc-item-num\">2.2&nbsp;&nbsp;</span>Initialize two lists, one containing strings, another containing numbers</a></span></li><li><span><a href=\"#Apply-the-function-over-the-two-lists\" data-toc-modified-id=\"Apply-the-function-over-the-two-lists-2.3\"><span class=\"toc-item-num\">2.3&nbsp;&nbsp;</span>Apply the function over the two lists</a></span></li></ul></li></ul></div>"
   ],
   "metadata": {
    "toc": true
   }
  },
  {
   "cell_type": "markdown",
   "source": [
    "# Problem 1"
   ],
   "metadata": {}
  },
  {
   "cell_type": "code",
   "execution_count": 1,
   "source": [
    "import numpy as np\n",
    "import pandas as pd"
   ],
   "outputs": [],
   "metadata": {}
  },
  {
   "cell_type": "markdown",
   "source": [
    "## Create a new function involving at least a Numpy module/function (e.g., np.mean)"
   ],
   "metadata": {}
  },
  {
   "cell_type": "code",
   "execution_count": 5,
   "source": [
    "def numpy_func(x):\n",
    "    y = np.mean(x)\n",
    "    return y"
   ],
   "outputs": [],
   "metadata": {}
  },
  {
   "cell_type": "markdown",
   "source": [
    "## Initialize a new list"
   ],
   "metadata": {}
  },
  {
   "cell_type": "code",
   "execution_count": 18,
   "source": [
    "A = pd.DataFrame([1,1,1,1,1])"
   ],
   "outputs": [],
   "metadata": {}
  },
  {
   "cell_type": "markdown",
   "source": [
    "## Apply your function over the list"
   ],
   "metadata": {}
  },
  {
   "cell_type": "code",
   "execution_count": 19,
   "source": [
    "numpy_func(A)"
   ],
   "outputs": [
    {
     "output_type": "execute_result",
     "data": {
      "text/plain": [
       "0    1.0\n",
       "dtype: float64"
      ]
     },
     "metadata": {},
     "execution_count": 19
    }
   ],
   "metadata": {}
  },
  {
   "cell_type": "markdown",
   "source": [
    "## Apply your function over the list conditionally on list's elements attributes"
   ],
   "metadata": {}
  },
  {
   "cell_type": "code",
   "execution_count": 21,
   "source": [
    "A.loc[A]"
   ],
   "outputs": [
    {
     "output_type": "execute_result",
     "data": {
      "text/plain": [
       "0    1\n",
       "Name: 4, dtype: int64"
      ]
     },
     "metadata": {},
     "execution_count": 21
    }
   ],
   "metadata": {}
  },
  {
   "cell_type": "markdown",
   "source": [
    "# Problem 2"
   ],
   "metadata": {}
  },
  {
   "cell_type": "markdown",
   "source": [
    "## Create a new function taking two arguments and involving at least a 'while' loop and 'enumerate'"
   ],
   "metadata": {}
  },
  {
   "cell_type": "code",
   "execution_count": null,
   "source": [],
   "outputs": [],
   "metadata": {}
  },
  {
   "cell_type": "markdown",
   "source": [
    "## Initialize two lists, one containing strings, another containing numbers"
   ],
   "metadata": {}
  },
  {
   "cell_type": "code",
   "execution_count": null,
   "source": [],
   "outputs": [],
   "metadata": {}
  },
  {
   "cell_type": "markdown",
   "source": [
    "## Apply the function over the two lists"
   ],
   "metadata": {}
  },
  {
   "cell_type": "code",
   "execution_count": null,
   "source": [],
   "outputs": [],
   "metadata": {}
  }
 ],
 "metadata": {
  "kernelspec": {
   "name": "python3",
   "display_name": "Python 3.8.2 64-bit ('base': conda)"
  },
  "language_info": {
   "name": "python",
   "version": "3.8.2",
   "mimetype": "text/x-python",
   "codemirror_mode": {
    "name": "ipython",
    "version": 3
   },
   "pygments_lexer": "ipython3",
   "nbconvert_exporter": "python",
   "file_extension": ".py"
  },
  "latex_envs": {
   "LaTeX_envs_menu_present": true,
   "autoclose": false,
   "autocomplete": true,
   "bibliofile": "biblio.bib",
   "cite_by": "apalike",
   "current_citInitial": 1,
   "eqLabelWithNumbers": true,
   "eqNumInitial": 1,
   "hotkeys": {
    "equation": "Ctrl-E",
    "itemize": "Ctrl-I"
   },
   "labels_anchors": false,
   "latex_user_defs": false,
   "report_style_numbering": false,
   "user_envs_cfg": false
  },
  "toc": {
   "base_numbering": 1,
   "nav_menu": {},
   "number_sections": true,
   "sideBar": true,
   "skip_h1_title": false,
   "title_cell": "Table of Contents",
   "title_sidebar": "Contents",
   "toc_cell": true,
   "toc_position": {},
   "toc_section_display": true,
   "toc_window_display": true
  },
  "varInspector": {
   "cols": {
    "lenName": 16,
    "lenType": 16,
    "lenVar": 40
   },
   "kernels_config": {
    "python": {
     "delete_cmd_postfix": "",
     "delete_cmd_prefix": "del ",
     "library": "var_list.py",
     "varRefreshCmd": "print(var_dic_list())"
    },
    "r": {
     "delete_cmd_postfix": ") ",
     "delete_cmd_prefix": "rm(",
     "library": "var_list.r",
     "varRefreshCmd": "cat(var_dic_list()) "
    }
   },
   "types_to_exclude": [
    "module",
    "function",
    "builtin_function_or_method",
    "instance",
    "_Feature"
   ],
   "window_display": false
  },
  "interpreter": {
   "hash": "dca0ade3e726a953b501b15e8e990130d2b7799f14cfd9f4271676035ebe5511"
  }
 },
 "nbformat": 4,
 "nbformat_minor": 2
}