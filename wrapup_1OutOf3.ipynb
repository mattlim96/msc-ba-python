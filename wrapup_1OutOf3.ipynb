{
 "cells": [
  {
   "cell_type": "markdown",
   "metadata": {
    "toc": true
   },
   "source": [
    "<h1>Table of Contents<span class=\"tocSkip\"></span></h1>\n",
    "<div class=\"toc\"><ul class=\"toc-item\"><li><span><a href=\"#Problem-1\" data-toc-modified-id=\"Problem-1-1\"><span class=\"toc-item-num\">1&nbsp;&nbsp;</span>Problem 1</a></span><ul class=\"toc-item\"><li><span><a href=\"#Create-a-new-function-involving-at-least-a-Numpy-module/function-(e.g.,-np.mean)\" data-toc-modified-id=\"Create-a-new-function-involving-at-least-a-Numpy-module/function-(e.g.,-np.mean)-1.1\"><span class=\"toc-item-num\">1.1&nbsp;&nbsp;</span>Create a new function involving at least a Numpy module/function (e.g., np.mean)</a></span></li><li><span><a href=\"#Initialize-a-new-list\" data-toc-modified-id=\"Initialize-a-new-list-1.2\"><span class=\"toc-item-num\">1.2&nbsp;&nbsp;</span>Initialize a new list</a></span></li><li><span><a href=\"#Apply-your-function-over-the-list\" data-toc-modified-id=\"Apply-your-function-over-the-list-1.3\"><span class=\"toc-item-num\">1.3&nbsp;&nbsp;</span>Apply your function over the list</a></span></li><li><span><a href=\"#Apply-your-function-over-the-list-conditionally-on-list's-elements-attributes\" data-toc-modified-id=\"Apply-your-function-over-the-list-conditionally-on-list's-elements-attributes-1.4\"><span class=\"toc-item-num\">1.4&nbsp;&nbsp;</span>Apply your function over the list conditionally on list's elements attributes</a></span></li></ul></li><li><span><a href=\"#Problem-2\" data-toc-modified-id=\"Problem-2-2\"><span class=\"toc-item-num\">2&nbsp;&nbsp;</span>Problem 2</a></span><ul class=\"toc-item\"><li><span><a href=\"#Create-a-new-function-taking-two-arguments-and-involving-at-least-a-'while'-loop-and-'enumerate'\" data-toc-modified-id=\"Create-a-new-function-taking-two-arguments-and-involving-at-least-a-'while'-loop-and-'enumerate'-2.1\"><span class=\"toc-item-num\">2.1&nbsp;&nbsp;</span>Create a new function taking two arguments and involving at least a 'while' loop and 'enumerate'</a></span></li><li><span><a href=\"#Initialize-two-lists,-one-containing-strings,-another-containing-numbers\" data-toc-modified-id=\"Initialize-two-lists,-one-containing-strings,-another-containing-numbers-2.2\"><span class=\"toc-item-num\">2.2&nbsp;&nbsp;</span>Initialize two lists, one containing strings, another containing numbers</a></span></li><li><span><a href=\"#Apply-the-function-over-the-two-lists\" data-toc-modified-id=\"Apply-the-function-over-the-two-lists-2.3\"><span class=\"toc-item-num\">2.3&nbsp;&nbsp;</span>Apply the function over the two lists</a></span></li></ul></li></ul></div>"
   ]
  },
  {
   "cell_type": "markdown",
   "metadata": {},
   "source": [
    "# Problem 1"
   ]
  },
  {
   "cell_type": "markdown",
   "metadata": {},
   "source": [
    "## Create a new function involving at least a Numpy module/function (e.g., np.mean)"
   ]
  },
  {
   "cell_type": "code",
   "execution_count": null,
   "metadata": {},
   "outputs": [],
   "source": []
  },
  {
   "cell_type": "markdown",
   "metadata": {},
   "source": [
    "## Initialize a new list"
   ]
  },
  {
   "cell_type": "code",
   "execution_count": null,
   "metadata": {},
   "outputs": [],
   "source": []
  },
  {
   "cell_type": "markdown",
   "metadata": {},
   "source": [
    "## Apply your function over the list"
   ]
  },
  {
   "cell_type": "code",
   "execution_count": null,
   "metadata": {},
   "outputs": [],
   "source": []
  },
  {
   "cell_type": "markdown",
   "metadata": {},
   "source": [
    "## Apply your function over the list conditionally on list's elements attributes"
   ]
  },
  {
   "cell_type": "code",
   "execution_count": null,
   "metadata": {},
   "outputs": [],
   "source": []
  },
  {
   "cell_type": "markdown",
   "metadata": {},
   "source": [
    "# Problem 2"
   ]
  },
  {
   "cell_type": "markdown",
   "metadata": {},
   "source": [
    "## Create a new function taking two arguments and involving at least a 'while' loop and 'enumerate'"
   ]
  },
  {
   "cell_type": "code",
   "execution_count": null,
   "metadata": {},
   "outputs": [],
   "source": []
  },
  {
   "cell_type": "markdown",
   "metadata": {},
   "source": [
    "## Initialize two lists, one containing strings, another containing numbers"
   ]
  },
  {
   "cell_type": "code",
   "execution_count": null,
   "metadata": {},
   "outputs": [],
   "source": []
  },
  {
   "cell_type": "markdown",
   "metadata": {},
   "source": [
    "## Apply the function over the two lists"
   ]
  },
  {
   "cell_type": "code",
   "execution_count": null,
   "metadata": {},
   "outputs": [],
   "source": []
  }
 ],
 "metadata": {
  "kernelspec": {
   "display_name": "Python 3",
   "language": "python",
   "name": "python3"
  },
  "language_info": {
   "codemirror_mode": {
    "name": "ipython",
    "version": 3
   },
   "file_extension": ".py",
   "mimetype": "text/x-python",
   "name": "python",
   "nbconvert_exporter": "python",
   "pygments_lexer": "ipython3",
   "version": "3.6.5"
  },
  "latex_envs": {
   "LaTeX_envs_menu_present": true,
   "autoclose": false,
   "autocomplete": true,
   "bibliofile": "biblio.bib",
   "cite_by": "apalike",
   "current_citInitial": 1,
   "eqLabelWithNumbers": true,
   "eqNumInitial": 1,
   "hotkeys": {
    "equation": "Ctrl-E",
    "itemize": "Ctrl-I"
   },
   "labels_anchors": false,
   "latex_user_defs": false,
   "report_style_numbering": false,
   "user_envs_cfg": false
  },
  "toc": {
   "base_numbering": 1,
   "nav_menu": {},
   "number_sections": true,
   "sideBar": true,
   "skip_h1_title": false,
   "title_cell": "Table of Contents",
   "title_sidebar": "Contents",
   "toc_cell": true,
   "toc_position": {},
   "toc_section_display": true,
   "toc_window_display": true
  },
  "varInspector": {
   "cols": {
    "lenName": 16,
    "lenType": 16,
    "lenVar": 40
   },
   "kernels_config": {
    "python": {
     "delete_cmd_postfix": "",
     "delete_cmd_prefix": "del ",
     "library": "var_list.py",
     "varRefreshCmd": "print(var_dic_list())"
    },
    "r": {
     "delete_cmd_postfix": ") ",
     "delete_cmd_prefix": "rm(",
     "library": "var_list.r",
     "varRefreshCmd": "cat(var_dic_list()) "
    }
   },
   "types_to_exclude": [
    "module",
    "function",
    "builtin_function_or_method",
    "instance",
    "_Feature"
   ],
   "window_display": false
  }
 },
 "nbformat": 4,
 "nbformat_minor": 2
}
